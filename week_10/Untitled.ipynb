{
 "cells": [
  {
   "cell_type": "markdown",
   "metadata": {},
   "source": [
    "### Preliminary setup\n",
    "\n",
    "This notebook will use R, users will need to ensure an R jupyter interface such as *rpy2* is installed for this to work properly. If you need to install this interface: "
   ]
  },
  {
   "cell_type": "code",
   "execution_count": 15,
   "metadata": {},
   "outputs": [
    {
     "name": "stdout",
     "output_type": "stream",
     "text": [
      "Requirement already satisfied: rpy2 in /usr/local/lib/python3.7/site-packages (3.3.6)\n",
      "Requirement already satisfied: tzlocal in /usr/local/lib/python3.7/site-packages (from rpy2) (2.1)\n",
      "Requirement already satisfied: pytest in /usr/local/lib/python3.7/site-packages (from rpy2) (6.1.2)\n",
      "Requirement already satisfied: cffi>=1.10.0 in /usr/local/lib/python3.7/site-packages (from rpy2) (1.14.3)\n",
      "Requirement already satisfied: jinja2 in /usr/local/lib/python3.7/site-packages (from rpy2) (2.10.1)\n",
      "Requirement already satisfied: pytz in /usr/local/lib/python3.7/site-packages (from rpy2) (2019.1)\n",
      "Requirement already satisfied: toml in /usr/local/lib/python3.7/site-packages (from pytest->rpy2) (0.10.2)\n",
      "Requirement already satisfied: attrs>=17.4.0 in /usr/local/lib/python3.7/site-packages (from pytest->rpy2) (20.3.0)\n",
      "Requirement already satisfied: py>=1.8.2 in /usr/local/lib/python3.7/site-packages (from pytest->rpy2) (1.9.0)\n",
      "Requirement already satisfied: importlib-metadata>=0.12; python_version < \"3.8\" in /usr/local/lib/python3.7/site-packages (from pytest->rpy2) (2.0.0)\n",
      "Requirement already satisfied: pluggy<1.0,>=0.12 in /usr/local/lib/python3.7/site-packages (from pytest->rpy2) (0.13.1)\n",
      "Requirement already satisfied: packaging in /usr/local/lib/python3.7/site-packages (from pytest->rpy2) (19.0)\n",
      "Requirement already satisfied: iniconfig in /usr/local/lib/python3.7/site-packages (from pytest->rpy2) (1.1.1)\n",
      "Requirement already satisfied: pycparser in /usr/local/lib/python3.7/site-packages (from cffi>=1.10.0->rpy2) (2.20)\n",
      "Requirement already satisfied: MarkupSafe>=0.23 in /usr/local/lib/python3.7/site-packages (from jinja2->rpy2) (1.1.1)\n",
      "Requirement already satisfied: zipp>=0.5 in /usr/local/lib/python3.7/site-packages (from importlib-metadata>=0.12; python_version < \"3.8\"->pytest->rpy2) (3.4.0)\n",
      "Requirement already satisfied: pyparsing>=2.0.2 in /usr/local/lib/python3.7/site-packages (from packaging->pytest->rpy2) (2.3.0)\n",
      "Requirement already satisfied: six in /usr/local/lib/python3.7/site-packages (from packaging->pytest->rpy2) (1.11.0)\n"
     ]
    }
   ],
   "source": [
    "%%bash\n",
    "pip3 install rpy2"
   ]
  },
  {
   "cell_type": "markdown",
   "metadata": {},
   "source": [
    "And then to tell this jupyter notebook to use this R interface, following command blocks will have a %% prepended specifying if this should be run with bash or R"
   ]
  },
  {
   "cell_type": "code",
   "execution_count": 8,
   "metadata": {},
   "outputs": [
    {
     "name": "stdout",
     "output_type": "stream",
     "text": [
      "The rpy2.ipython extension is already loaded. To reload it, use:\n",
      "  %reload_ext rpy2.ipython\n"
     ]
    }
   ],
   "source": [
    "%load_ext rpy2.ipython"
   ]
  },
  {
   "cell_type": "markdown",
   "metadata": {},
   "source": [
    "### VEP (Variant Effect Predictor) - Cache Installation\n",
    "\n",
    "The first step to using the variant is to install a Cache, **most users will not have to bother with this**, if you are fine with using the cache and VEP versions already downloaded to storage1/compute1 you can ignore this. Inncidently the Cache already on storage1 is at `/storage1/fs1/bga/Active/gmsroot/gc2560/core/cwl/inputs/VEP_cache`\n",
    "\n",
    "If however you need a species, assembly, or vep version not supported by the support infrastructure you will need to install one yourself\n",
    "\n",
    "As a bit of a tangent, you can run VEP in \"online\" mode, meaning that VEP will hit ensembl servers instead of a local cache, however I don't recommend this. It will be extremely slow.\n",
    "\n",
    "To Start I SSH into compute1 (my ssh keys for compute1 are named after marine mammals, so yours will be different)\n",
    "\n",
    "From there I get into an interactive VEP session and run the INSTALL.pl perl script for VEP located in /opt/vep/src\n",
    "\n",
    "Now let's talk about some of the parameters, the big one is -c, it tells the installer where to download the cache, I use -a to specify what i want installed, which for pretty much everyone would be the fasta file and the cache itself denoted by f and c respectively. -s informs VEP I want this for the canis_lupus_familiaris species, -l and --NO_BIOPERL are skipping additional specific packages that are not needed (and are a pain to get installed). And finnally I say I want the CanFam3.1 reference assembly.\n",
    "\n",
    "All of this typically takes a couple hours so be prepared to wait (which is also why i have this commented out).\n",
    "\n",
    "As a side note, you were to run without the -a parameter you would be walked through by the installer what you wanted to install. This might be more convinient for some users.\n",
    "\n"
   ]
  },
  {
   "cell_type": "code",
   "execution_count": 19,
   "metadata": {
    "collapsed": true,
    "jupyter": {
     "outputs_hidden": true
    }
   },
   "outputs": [
    {
     "name": "stdout",
     "output_type": "stream",
     "text": [
      "Job <456732> is submitted to default queue <general-interactive>.\n",
      "release_101.0: Pulling from ensemblorg/ensembl-vep\n",
      "f08d8e2a3ba1: Pulling fs layer\n",
      "3baa9cb2483b: Pulling fs layer\n",
      "94e5ff4c0b15: Pulling fs layer\n",
      "1860925334f9: Pulling fs layer\n",
      "59ea04b4d1f5: Pulling fs layer\n",
      "35da7fd97b95: Pulling fs layer\n",
      "71bb648dfd3b: Pulling fs layer\n",
      "3f8d7e441f68: Pulling fs layer\n",
      "d23ab4039a95: Pulling fs layer\n",
      "72cd523e7fc6: Pulling fs layer\n",
      "0f0efd126ff4: Pulling fs layer\n",
      "59ea04b4d1f5: Waiting\n",
      "0f0efd126ff4: Waiting\n",
      "d23ab4039a95: Waiting\n",
      "3f8d7e441f68: Waiting\n",
      "35da7fd97b95: Waiting\n",
      "3baa9cb2483b: Verifying Checksum\n",
      "3baa9cb2483b: Download complete\n",
      "94e5ff4c0b15: Verifying Checksum\n",
      "94e5ff4c0b15: Download complete\n",
      "f08d8e2a3ba1: Download complete\n",
      "1860925334f9: Download complete\n",
      "35da7fd97b95: Verifying Checksum\n",
      "35da7fd97b95: Download complete\n",
      "3f8d7e441f68: Download complete\n",
      "59ea04b4d1f5: Verifying Checksum\n",
      "59ea04b4d1f5: Download complete\n",
      "d23ab4039a95: Verifying Checksum\n",
      "d23ab4039a95: Download complete\n",
      "71bb648dfd3b: Verifying Checksum\n",
      "71bb648dfd3b: Download complete\n",
      "0f0efd126ff4: Verifying Checksum\n",
      "0f0efd126ff4: Download complete\n",
      "72cd523e7fc6: Verifying Checksum\n",
      "72cd523e7fc6: Download complete\n",
      "f08d8e2a3ba1: Pull complete\n",
      "3baa9cb2483b: Pull complete\n",
      "94e5ff4c0b15: Pull complete\n",
      "1860925334f9: Pull complete\n",
      "59ea04b4d1f5: Pull complete\n",
      "35da7fd97b95: Pull complete\n",
      "71bb648dfd3b: Pull complete\n",
      "3f8d7e441f68: Pull complete\n",
      "d23ab4039a95: Pull complete\n",
      "72cd523e7fc6: Pull complete\n",
      "0f0efd126ff4: Pull complete\n",
      "Digest: sha256:5edeabc388be499f7ee0d42f0b58d7ef3fdca0b619b4dce57315ca4cbe715e84\n",
      "Status: Downloaded newer image for ensemblorg/ensembl-vep:release_101.0\n",
      "docker.io/ensemblorg/ensembl-vep:release_101.0\n",
      "#---------------#\n",
      "# VEP INSTALLER #\n",
      "#---------------#\n",
      "\n",
      "versions\n",
      "  ensembl              : 101.856c8e8\n",
      "  ensembl-funcgen      : 101.b918a49\n",
      "  ensembl-io           : 101.943b6c2\n",
      "  ensembl-variation    : 101.50e7372\n",
      "  ensembl-vep          : 101.0\n",
      "\n",
      "http://www.ensembl.org/info/docs/variation/vep/vep_script.html#installer\n",
      "\n",
      "Usage:\n",
      "perl INSTALL.pl [arguments]\n",
      "\n",
      "Options\n",
      "=======\n",
      "\n",
      "-h | --help        Display this message and quit\n",
      "\n",
      "-d | --DESTDIR     Set destination directory for API install (default = './')\n",
      "--CACHE_VERSION    Set data (cache, FASTA) version to install if different from --VERSION (default = 101)\n",
      "-c | --CACHEDIR    Set destination directory for cache files (default = '/home/zlskidmore/.vep/')\n",
      "\n",
      "-a | --AUTO        Run installer without user prompts. Use \"a\" (API + Faidx/htslib),\n",
      "                   \"l\" (Faidx/htslib only), \"c\" (cache), \"f\" (FASTA), \"p\" (plugins) to specify\n",
      "                   parts to install e.g. -a ac for API and cache\n",
      "-n | --NO_UPDATE   Do not check for updates to ensembl-vep\n",
      "-s | --SPECIES     Comma-separated list of species to install when using --AUTO\n",
      "-y | --ASSEMBLY    Assembly name to use if more than one during --AUTO\n",
      "-g | --PLUGINS     Comma-separated list of plugins to install when using --AUTO\n",
      "-r | --PLUGINSDIR  Set destination directory for VEP plugins files (default = '/home/zlskidmore/.vep/Plugins/')\n",
      "-q | --QUIET       Don't write any status output when using --AUTO\n",
      "-p | --PREFER_BIN  Use this if the installer fails with out of memory errors\n",
      "-l | --NO_HTSLIB   Don't attempt to install Faidx/htslib\n",
      "--NO_BIOPERL       Don't install BioPerl\n",
      "\n",
      "-t | --CONVERT     Convert downloaded caches to use tabix for retrieving\n",
      "                   co-located variants (requires tabix)\n",
      "\n",
      "\n",
      "-u | --CACHEURL    Override default cache URL; this may be a local directory or\n",
      "                   a remote (e.g. FTP) address.\n",
      "-f | --FASTAURL    Override default FASTA URL; this may be a local directory or\n",
      "                   a remote (e.g. FTP) address. The FASTA URL/directory must have\n",
      "                   gzipped FASTA files under the following structure:\n",
      "                   [species]/[dna]/\n"
     ]
    },
    {
     "name": "stderr",
     "output_type": "stream",
     "text": [
      "Pseudo-terminal will not be allocated because stdin is not a terminal.\n",
      "You are connecting to RIS Compute services.\n",
      "Membership in a compute-* AD group is required.\n",
      "\n",
      "Users are responsible for acting in accordance with\n",
      "policies applicable to Washington University St. Louis.\n",
      "\n",
      "https://confluence.ris.wustl.edu/display/RSUM/RIS+Compute+%3A+User+Agreement\n",
      "<<Waiting for dispatch ...>>\n",
      "<<Starting on compute1-exec-162.ris.wustl.edu>>\n"
     ]
    }
   ],
   "source": [
    "%%bash\n",
    "ssh beluga\n",
    "LSF_DOCKER_PRESERVE_ENVIRONMENT=false bsub -M 8000000 -R 'select[mem>8000] span[hosts=1] rusage[mem=8000]' -n 8 -G compute-obigriffith -Is -a 'docker(ensemblorg/ensembl-vep:release_101.0)' /bin/bash\n",
    "perl /opt/vep/src/ensembl-vep/INSTALL.pl --help\n",
    "#perl /opt/vep/src/ensembl-vep/INSTALL.pl -c /storage1/fs1/obigriffith/Active/common/vepCache/ -a fc -s canis_lupus_familiaris -l --NO_BIOPERL --ASSEMBLY CanFam3.1\n",
    "exit"
   ]
  },
  {
   "cell_type": "markdown",
   "metadata": {},
   "source": [
    "### Uploading Preliminary Data for VEP\n",
    "\n",
    "Now on to the fun stuff, actually annotated our data with usefull information. For this we'll use a copy of the data from last week available in this repo and push it up to our home directory. We can use `scp` for this, as a reminder your ssh keys are likely different than mine."
   ]
  },
  {
   "cell_type": "code",
   "execution_count": 1,
   "metadata": {},
   "outputs": [
    {
     "name": "stderr",
     "output_type": "stream",
     "text": [
      "You are connecting to RIS Compute services.\n",
      "Membership in a compute-* AD group is required.\n",
      "\n",
      "Users are responsible for acting in accordance with\n",
      "policies applicable to Washington University St. Louis.\n",
      "\n",
      "https://confluence.ris.wustl.edu/display/RSUM/RIS+Compute+%3A+User+Agreement\n"
     ]
    }
   ],
   "source": [
    "%%bash\n",
    "cd ~/git/bfx-workshop/week_10\n",
    "scp mutect.filtered.decomposed.readcount_snvs_indel.vcf.gz beluga:~"
   ]
  },
  {
   "cell_type": "markdown",
   "metadata": {},
   "source": [
    "Next we'll actually run VEP on our VCF file"
   ]
  },
  {
   "cell_type": "code",
   "execution_count": 7,
   "metadata": {},
   "outputs": [
    {
     "name": "stdout",
     "output_type": "stream",
     "text": [
      "Job <458380> is submitted to queue <general>.\n"
     ]
    },
    {
     "name": "stderr",
     "output_type": "stream",
     "text": [
      "Pseudo-terminal will not be allocated because stdin is not a terminal.\n",
      "You are connecting to RIS Compute services.\n",
      "Membership in a compute-* AD group is required.\n",
      "\n",
      "Users are responsible for acting in accordance with\n",
      "policies applicable to Washington University St. Louis.\n",
      "\n",
      "https://confluence.ris.wustl.edu/display/RSUM/RIS+Compute+%3A+User+Agreement\n"
     ]
    }
   ],
   "source": [
    "%%bash\n",
    "ssh beluga\n",
    "\n",
    "LSF_DOCKER_VOLUMES=/storage1/fs1/bga/Active:/storage1/fs1/bga/Active LSF_DOCKER_PRESERVE_ENVIRONMENT=false bsub -oo vep.log -q general -M 8000000 -R 'select[mem>8000] span[hosts=1] rusage[mem=8000]' -n 8 -G compute-oncology -a 'docker(ensemblorg/ensembl-vep:release_101.0)' /opt/vep/src/ensembl-vep/vep --cache --dir_cache=/storage1/fs1/bga/Active/gmsroot/gc2560/core/cwl/inputs/VEP_cache/ --input_file=mutect.filtered.decomposed.readcount_snvs_indel.vcf.gz --output_file=mutect.filtered.decomposed.readcount_snvs_indel.flag_pick.vcf --everything --fasta=/storage1/fs1/bga/Active/gmsroot/gc2560/core/cwl/inputs/VEP_cache/homo_sapiens/101_GRCh38/Homo_sapiens.GRCh38.dna.toplevel.fa.gz --force_overwrite --vcf --terms SO --assembly=GRCh38 --offline --pick --force_overwrite --no_check_variants_order --transcript_version"
   ]
  },
  {
   "cell_type": "markdown",
   "metadata": {},
   "source": [
    "While we're waiting for that job to complete let's talk about some of the options we specified that aren't so obvious, first as mentioned previously we need to supply the path to an appropriate VEP cache where annotations can be pulled.\n",
    "\n",
    "the --everything flag tells vep to annotate a fairly comprehensive set of items including transcript support level in ensembl, the hgvs notations, gene symbols etc.\n",
    "\n",
    "the --vcf flag tells VEP to output in VCF format\n",
    "\n",
    "--force_overwrite, will overwrite VEP results if they're present in the directory (this is especially usefull if you decide you want more annotations and don't want to remove files to re-run VEP)\n",
    "\n",
    "--terms SO tells VEP to use the sequence ontology to annotate variant consequences i.e. stop_gain, frameshift, etc.\n",
    "\n",
    "--no_check_variants_order means that VEP will be able to run on unsorted input files (though this comes at a significant computational cost)\n",
    "\n",
    "and Finally --pick tells VEP to output only 1 entry for a variant, for example you could have a variant that is both a missense variant in one gene and upstream for another gene, using this option VEP will output the most sever consequence, in this case missense\n",
    "\n",
    "This just scratches the surface of options available for VEP, but is typically what I run as a \"default\" and is probably a good place to start. For a more complete list of params there is extensive documentation from ensembl available here: https://uswest.ensembl.org/info/docs/tools/vep/script/vep_options.html#basic\n",
    "\n",
    "I would like to note that many of VEPs defaults are designed around h.sapiens, for example it is quite simple to run on a different species however you will need that species in your cache and you will need to specify the desired species with the --species parameter\n"
   ]
  },
  {
   "cell_type": "markdown",
   "metadata": {},
   "source": [
    "### Downloading and viewing VEP results\n",
    "\n",
    "VEP outputs a number of files of potential interest, including an HTML report, the file you really probably care about though is the VCF file we had VEP output in the command above, lets go ahead and pull it down and take a look, here I use grep to print the surrounding lines around the pattern match. Importantly we see that for each variant our annotation info is specified under the \"INFO\" column and  the \"INFO\" meta line in the header tells us what each column represents in the | delimited VCF file. unfortunately this is quite hard to parse, so we will use R to extract some of this information and have a short plotting lesson in this tutorial."
   ]
  },
  {
   "cell_type": "code",
   "execution_count": 12,
   "metadata": {},
   "outputs": [
    {
     "name": "stdout",
     "output_type": "stream",
     "text": [
      "##VEP=\"v101\" time=\"2020-11-20 21:23:16\" cache=\"/storage1/fs1/bga/Active/gmsroot/gc2560/core/cwl/inputs/VEP_cache/homo_sapiens/101_GRCh38\" ensembl-variation=101.50e7372 ensembl-io=101.943b6c2 ensembl-funcgen=101.b918a49 ensembl=101.856c8e8 1000genomes=\"phase3\" COSMIC=\"90\" ClinVar=\"202003\" ESP=\"V2-SSA137\" HGMD-PUBLIC=\"20194\" assembly=\"GRCh38.p13\" dbSNP=\"153\" gencode=\"GENCODE 35\" genebuild=\"2014-07\" gnomAD=\"r2.1\" polyphen=\"2.2.2\" regbuild=\"1.0\" sift=\"sift5.2.2\"\n",
      "##INFO=<ID=CSQ,Number=.,Type=String,Description=\"Consequence annotations from Ensembl VEP. Format: Allele|Consequence|IMPACT|SYMBOL|Gene|Feature_type|Feature|BIOTYPE|EXON|INTRON|HGVSc|HGVSp|cDNA_position|CDS_position|Protein_position|Amino_acids|Codons|Existing_variation|DISTANCE|STRAND|FLAGS|VARIANT_CLASS|SYMBOL_SOURCE|HGNC_ID|CANONICAL|MANE|TSL|APPRIS|CCDS|ENSP|SWISSPROT|TREMBL|UNIPARC|GENE_PHENO|SIFT|PolyPhen|DOMAINS|miRNA|HGVS_OFFSET|AF|AFR_AF|AMR_AF|EAS_AF|EUR_AF|SAS_AF|AA_AF|EA_AF|gnomAD_AF|gnomAD_AFR_AF|gnomAD_AMR_AF|gnomAD_ASJ_AF|gnomAD_EAS_AF|gnomAD_FIN_AF|gnomAD_NFE_AF|gnomAD_OTH_AF|gnomAD_SAS_AF|MAX_AF|MAX_AF_POPS|CLIN_SIG|SOMATIC|PHENO|PUBMED|VAR_SYNONYMS|MOTIF_NAME|MOTIF_POS|HIGH_INF_POS|MOTIF_SCORE_CHANGE|TRANSCRIPTION_FACTORS\">\n",
      "#CHROM\tPOS\tID\tREF\tALT\tQUAL\tFILTER\tINFO\tFORMAT\tExome_Normal\tExome_Tumor\n",
      "chr17\t445794\t.\tTA\tT\t.\tnormal_artifact;slippage;weak_evidence\tAS_FilterStatus=weak_evidence;AS_SB_TABLE=125%2C10|6%2C1;DP=155;ECNT=1;GERMQ=93;MBQ=30,30;MFRL=0,0;MMQ=60,60;MPOS=20;NALOD=-0.1435;NLOD=15.1;POPAF=6.0;RPA=13,12;RU=A;STR;STRQ=1;TLOD=4.22;CSQ=-|intron_variant|MODIFIER|RFLNB|ENSG00000183688|Transcript|ENST00000329099.4|protein_coding||1/1|ENST00000329099.4:c.104+41del|||||||rs374447131||-1|cds_start_NF|deletion|HGNC|HGNC:28705|YES||1|P1||ENSP00000331915|Q8N5W9||UPI00001AF949|||||||||||||0.1258|0.1229|0.3359|0.2129|0.2914|0.3926|0.2555|0.3054|0.3388|0.3419|0.386|0.3926|gnomAD_ASJ||||||||||\tGT:AD:AF:DP:F1R2:F2R1:SB\t0/0:66,2:0.041:68:4,0:61,2:62,4,2,0\t0/1:0,0:0:0:5,1:62,4:63,6,4,1\n",
      "chr17\t519444\t.\tG\tT\t.\tweak_evidence\tAS_FilterStatus=weak_evidence;AS_SB_TABLE=2%2C20|0%2C2;DP=25;ECNT=1;GERMQ=53;MBQ=30,30;MFRL=0,0;MMQ=60,60;MPOS=29;NALOD=1.16;NLOD=3.91;POPAF=6.0;TLOD=4.14;CSQ=T|intron_variant|MODIFIER|VPS53|ENSG00000141252|Transcript|ENST00000437048.7|protein_coding||21/21|ENST00000437048.7:c.2329-146C>A|||||||||-1||SNV|HGNC|HGNC:25608|YES|NM_001128159.3|1|P2|CCDS45558.1|ENSP00000401435|Q5VIR6||UPI0000DBEF01|1||||||||||||||||||||||||||||||||||\tGT:AD:AF:DP:F1R2:F2R1:SB\t0/0:13,0:0.065:13:11,0:2,0:2,11,0,0\t0/1:0,0:0.0:0:9,2:0,0:0,9,0,2\n",
      "chr17\t823429\t.\tG\tT\t.\tweak_evidence\tAS_FilterStatus=weak_evidence;AS_SB_TABLE=35%2C0|2%2C0;DP=37;ECNT=1;GERMQ=84;MBQ=30,30;MFRL=0,0;MMQ=60,60;MPOS=24;NALOD=1.15;NLOD=3.91;POPAF=6.0;TLOD=3.12;CSQ=T|intron_variant|MODIFIER|NXN|ENSG00000167693|Transcript|ENST00000336868.8|protein_coding||3/7|ENST00000336868.8:c.612+203C>A|||||||||-1||SNV|HGNC|HGNC:18008|YES|NM_022463.5|1|P1|CCDS10998.1|ENSP00000337443|Q6DKJ4||UPI00001B31EB|1||||||||||||||||||||||||||||||||||\tGT:AD:AF:DP:F1R2:F2R1:SB\t0/0:13,0:0.067:13:0,0:13,0:13,0,0,0\t0/1:0,0:0.0:0:0,0:22,2:22,0,2,0\n",
      "chr17\t826161\t.\tG\tT\t.\tPASS\tAS_FilterStatus=SITE;AS_SB_TABLE=26%2C60|0%2C3;DP=94;ECNT=1;GERMQ=93;MBQ=30,30;MFRL=0,0;MMQ=60,60;MPOS=25;NALOD=1.63;NLOD=12.03;POPAF=6.0;TLOD=4.47;CSQ=T|intron_variant|MODIFIER|NXN|ENSG00000167693|Transcript|ENST00000336868.8|protein_coding||1/7|ENST00000336868.8:c.361-83C>A|||||||rs1312686437||-1||SNV|HGNC|HGNC:18008|YES|NM_022463.5|1|P1|CCDS10998.1|ENSP00000337443|Q6DKJ4||UPI00001B31EB|1||||||||||||||||||||||||||||||||||\tGT:AD:AF:DP:F1R2:F2R1:SB\t0/0:40,0:0.023:40:30,0:10,0:10,30,0,0\t0/1:0,0:0.0:0:30,3:15,0:16,30,0,3\n"
     ]
    },
    {
     "name": "stderr",
     "output_type": "stream",
     "text": [
      "You are connecting to RIS Compute services.\n",
      "Membership in a compute-* AD group is required.\n",
      "\n",
      "Users are responsible for acting in accordance with\n",
      "policies applicable to Washington University St. Louis.\n",
      "\n",
      "https://confluence.ris.wustl.edu/display/RSUM/RIS+Compute+%3A+User+Agreement\n"
     ]
    }
   ],
   "source": [
    "%%bash\n",
    "cd ~/git/bfx-workshop/week_10\n",
    "\n",
    "scp beluga:~/mutect.filtered.decomposed.readcount_snvs_indel.flag_pick.vcf ./\n",
    "    \n",
    "grep -A 4 -B 2 \"#CHROM\" mutect.filtered.decomposed.readcount_snvs_indel.flag_pick.vcf"
   ]
  },
  {
   "cell_type": "code",
   "execution_count": null,
   "metadata": {},
   "outputs": [],
   "source": []
  }
 ],
 "metadata": {
  "kernelspec": {
   "display_name": "Python 3",
   "language": "python",
   "name": "python3"
  },
  "language_info": {
   "codemirror_mode": {
    "name": "ipython",
    "version": 3
   },
   "file_extension": ".py",
   "mimetype": "text/x-python",
   "name": "python",
   "nbconvert_exporter": "python",
   "pygments_lexer": "ipython3",
   "version": "3.7.7"
  }
 },
 "nbformat": 4,
 "nbformat_minor": 4
}
