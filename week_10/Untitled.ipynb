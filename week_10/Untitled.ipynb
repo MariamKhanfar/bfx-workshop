{
 "cells": [
  {
   "cell_type": "markdown",
   "metadata": {},
   "source": [
    "### Preliminary setup\n",
    "\n",
    "This notebook will use R, users will need to ensure an R jupyter interface such as *rpy2* is installed for this to work properly. If you need to install this interface: "
   ]
  },
  {
   "cell_type": "code",
   "execution_count": 15,
   "metadata": {
    "jupyter": {
     "outputs_hidden": true
    },
    "scrolled": true
   },
   "outputs": [
    {
     "name": "stdout",
     "output_type": "stream",
     "text": [
      "Requirement already satisfied: rpy2 in /usr/local/lib/python3.7/site-packages (3.3.6)\n",
      "Requirement already satisfied: tzlocal in /usr/local/lib/python3.7/site-packages (from rpy2) (2.1)\n",
      "Requirement already satisfied: pytest in /usr/local/lib/python3.7/site-packages (from rpy2) (6.1.2)\n",
      "Requirement already satisfied: cffi>=1.10.0 in /usr/local/lib/python3.7/site-packages (from rpy2) (1.14.3)\n",
      "Requirement already satisfied: jinja2 in /usr/local/lib/python3.7/site-packages (from rpy2) (2.10.1)\n",
      "Requirement already satisfied: pytz in /usr/local/lib/python3.7/site-packages (from rpy2) (2019.1)\n",
      "Requirement already satisfied: toml in /usr/local/lib/python3.7/site-packages (from pytest->rpy2) (0.10.2)\n",
      "Requirement already satisfied: attrs>=17.4.0 in /usr/local/lib/python3.7/site-packages (from pytest->rpy2) (20.3.0)\n",
      "Requirement already satisfied: py>=1.8.2 in /usr/local/lib/python3.7/site-packages (from pytest->rpy2) (1.9.0)\n",
      "Requirement already satisfied: importlib-metadata>=0.12; python_version < \"3.8\" in /usr/local/lib/python3.7/site-packages (from pytest->rpy2) (2.0.0)\n",
      "Requirement already satisfied: pluggy<1.0,>=0.12 in /usr/local/lib/python3.7/site-packages (from pytest->rpy2) (0.13.1)\n",
      "Requirement already satisfied: packaging in /usr/local/lib/python3.7/site-packages (from pytest->rpy2) (19.0)\n",
      "Requirement already satisfied: iniconfig in /usr/local/lib/python3.7/site-packages (from pytest->rpy2) (1.1.1)\n",
      "Requirement already satisfied: pycparser in /usr/local/lib/python3.7/site-packages (from cffi>=1.10.0->rpy2) (2.20)\n",
      "Requirement already satisfied: MarkupSafe>=0.23 in /usr/local/lib/python3.7/site-packages (from jinja2->rpy2) (1.1.1)\n",
      "Requirement already satisfied: zipp>=0.5 in /usr/local/lib/python3.7/site-packages (from importlib-metadata>=0.12; python_version < \"3.8\"->pytest->rpy2) (3.4.0)\n",
      "Requirement already satisfied: pyparsing>=2.0.2 in /usr/local/lib/python3.7/site-packages (from packaging->pytest->rpy2) (2.3.0)\n",
      "Requirement already satisfied: six in /usr/local/lib/python3.7/site-packages (from packaging->pytest->rpy2) (1.11.0)\n"
     ]
    }
   ],
   "source": [
    "%%bash\n",
    "pip3 install rpy2"
   ]
  },
  {
   "cell_type": "markdown",
   "metadata": {},
   "source": [
    "And then to tell this jupyter notebook to use this R interface, following command blocks will have a %% prepended specifying if this should be run with bash or R"
   ]
  },
  {
   "cell_type": "code",
   "execution_count": 1,
   "metadata": {},
   "outputs": [],
   "source": [
    "%load_ext rpy2.ipython"
   ]
  },
  {
   "cell_type": "markdown",
   "metadata": {},
   "source": [
    "### VEP (Variant Effect Predictor) - Cache Installation\n",
    "\n",
    "The first step to using the variant is to install a Cache, **most users will not have to bother with this**, if you are fine with using the cache and VEP versions already downloaded to storage1/compute1 you can ignore this. Inncidently the Cache already on storage1 is at `/storage1/fs1/bga/Active/gmsroot/gc2560/core/cwl/inputs/VEP_cache`\n",
    "\n",
    "If however you need a species, assembly, or vep version not supported by the support infrastructure you will need to install one yourself\n",
    "\n",
    "As a bit of a tangent, you can run VEP in \"online\" mode, meaning that VEP will hit ensembl servers instead of a local cache, however I don't recommend this. It will be extremely slow.\n",
    "\n",
    "To Start I SSH into compute1 (my ssh keys for compute1 are named after marine mammals, so yours will be different)\n",
    "\n",
    "From there I get into an interactive VEP session and run the INSTALL.pl perl script for VEP located in /opt/vep/src\n",
    "\n",
    "Now let's talk about some of the parameters, the big one is -c, it tells the installer where to download the cache, I use -a to specify what i want installed, which for pretty much everyone would be the fasta file and the cache itself denoted by f and c respectively. -s informs VEP I want this for the canis_lupus_familiaris species, -l and --NO_BIOPERL are skipping additional specific packages that are not needed (and are a pain to get installed). And finnally I say I want the CanFam3.1 reference assembly.\n",
    "\n",
    "All of this typically takes a couple hours so be prepared to wait (which is also why i have this commented out).\n",
    "\n",
    "As a side note, you were to run without the -a parameter you would be walked through by the installer what you wanted to install. This might be more convinient for some users.\n",
    "\n"
   ]
  },
  {
   "cell_type": "code",
   "execution_count": 19,
   "metadata": {
    "collapsed": true,
    "jupyter": {
     "outputs_hidden": true
    }
   },
   "outputs": [
    {
     "name": "stdout",
     "output_type": "stream",
     "text": [
      "Job <456732> is submitted to default queue <general-interactive>.\n",
      "release_101.0: Pulling from ensemblorg/ensembl-vep\n",
      "f08d8e2a3ba1: Pulling fs layer\n",
      "3baa9cb2483b: Pulling fs layer\n",
      "94e5ff4c0b15: Pulling fs layer\n",
      "1860925334f9: Pulling fs layer\n",
      "59ea04b4d1f5: Pulling fs layer\n",
      "35da7fd97b95: Pulling fs layer\n",
      "71bb648dfd3b: Pulling fs layer\n",
      "3f8d7e441f68: Pulling fs layer\n",
      "d23ab4039a95: Pulling fs layer\n",
      "72cd523e7fc6: Pulling fs layer\n",
      "0f0efd126ff4: Pulling fs layer\n",
      "59ea04b4d1f5: Waiting\n",
      "0f0efd126ff4: Waiting\n",
      "d23ab4039a95: Waiting\n",
      "3f8d7e441f68: Waiting\n",
      "35da7fd97b95: Waiting\n",
      "3baa9cb2483b: Verifying Checksum\n",
      "3baa9cb2483b: Download complete\n",
      "94e5ff4c0b15: Verifying Checksum\n",
      "94e5ff4c0b15: Download complete\n",
      "f08d8e2a3ba1: Download complete\n",
      "1860925334f9: Download complete\n",
      "35da7fd97b95: Verifying Checksum\n",
      "35da7fd97b95: Download complete\n",
      "3f8d7e441f68: Download complete\n",
      "59ea04b4d1f5: Verifying Checksum\n",
      "59ea04b4d1f5: Download complete\n",
      "d23ab4039a95: Verifying Checksum\n",
      "d23ab4039a95: Download complete\n",
      "71bb648dfd3b: Verifying Checksum\n",
      "71bb648dfd3b: Download complete\n",
      "0f0efd126ff4: Verifying Checksum\n",
      "0f0efd126ff4: Download complete\n",
      "72cd523e7fc6: Verifying Checksum\n",
      "72cd523e7fc6: Download complete\n",
      "f08d8e2a3ba1: Pull complete\n",
      "3baa9cb2483b: Pull complete\n",
      "94e5ff4c0b15: Pull complete\n",
      "1860925334f9: Pull complete\n",
      "59ea04b4d1f5: Pull complete\n",
      "35da7fd97b95: Pull complete\n",
      "71bb648dfd3b: Pull complete\n",
      "3f8d7e441f68: Pull complete\n",
      "d23ab4039a95: Pull complete\n",
      "72cd523e7fc6: Pull complete\n",
      "0f0efd126ff4: Pull complete\n",
      "Digest: sha256:5edeabc388be499f7ee0d42f0b58d7ef3fdca0b619b4dce57315ca4cbe715e84\n",
      "Status: Downloaded newer image for ensemblorg/ensembl-vep:release_101.0\n",
      "docker.io/ensemblorg/ensembl-vep:release_101.0\n",
      "#---------------#\n",
      "# VEP INSTALLER #\n",
      "#---------------#\n",
      "\n",
      "versions\n",
      "  ensembl              : 101.856c8e8\n",
      "  ensembl-funcgen      : 101.b918a49\n",
      "  ensembl-io           : 101.943b6c2\n",
      "  ensembl-variation    : 101.50e7372\n",
      "  ensembl-vep          : 101.0\n",
      "\n",
      "http://www.ensembl.org/info/docs/variation/vep/vep_script.html#installer\n",
      "\n",
      "Usage:\n",
      "perl INSTALL.pl [arguments]\n",
      "\n",
      "Options\n",
      "=======\n",
      "\n",
      "-h | --help        Display this message and quit\n",
      "\n",
      "-d | --DESTDIR     Set destination directory for API install (default = './')\n",
      "--CACHE_VERSION    Set data (cache, FASTA) version to install if different from --VERSION (default = 101)\n",
      "-c | --CACHEDIR    Set destination directory for cache files (default = '/home/zlskidmore/.vep/')\n",
      "\n",
      "-a | --AUTO        Run installer without user prompts. Use \"a\" (API + Faidx/htslib),\n",
      "                   \"l\" (Faidx/htslib only), \"c\" (cache), \"f\" (FASTA), \"p\" (plugins) to specify\n",
      "                   parts to install e.g. -a ac for API and cache\n",
      "-n | --NO_UPDATE   Do not check for updates to ensembl-vep\n",
      "-s | --SPECIES     Comma-separated list of species to install when using --AUTO\n",
      "-y | --ASSEMBLY    Assembly name to use if more than one during --AUTO\n",
      "-g | --PLUGINS     Comma-separated list of plugins to install when using --AUTO\n",
      "-r | --PLUGINSDIR  Set destination directory for VEP plugins files (default = '/home/zlskidmore/.vep/Plugins/')\n",
      "-q | --QUIET       Don't write any status output when using --AUTO\n",
      "-p | --PREFER_BIN  Use this if the installer fails with out of memory errors\n",
      "-l | --NO_HTSLIB   Don't attempt to install Faidx/htslib\n",
      "--NO_BIOPERL       Don't install BioPerl\n",
      "\n",
      "-t | --CONVERT     Convert downloaded caches to use tabix for retrieving\n",
      "                   co-located variants (requires tabix)\n",
      "\n",
      "\n",
      "-u | --CACHEURL    Override default cache URL; this may be a local directory or\n",
      "                   a remote (e.g. FTP) address.\n",
      "-f | --FASTAURL    Override default FASTA URL; this may be a local directory or\n",
      "                   a remote (e.g. FTP) address. The FASTA URL/directory must have\n",
      "                   gzipped FASTA files under the following structure:\n",
      "                   [species]/[dna]/\n"
     ]
    },
    {
     "name": "stderr",
     "output_type": "stream",
     "text": [
      "Pseudo-terminal will not be allocated because stdin is not a terminal.\n",
      "You are connecting to RIS Compute services.\n",
      "Membership in a compute-* AD group is required.\n",
      "\n",
      "Users are responsible for acting in accordance with\n",
      "policies applicable to Washington University St. Louis.\n",
      "\n",
      "https://confluence.ris.wustl.edu/display/RSUM/RIS+Compute+%3A+User+Agreement\n",
      "<<Waiting for dispatch ...>>\n",
      "<<Starting on compute1-exec-162.ris.wustl.edu>>\n"
     ]
    }
   ],
   "source": [
    "%%bash\n",
    "ssh beluga\n",
    "LSF_DOCKER_PRESERVE_ENVIRONMENT=false bsub -M 8000000 -R 'select[mem>8000] span[hosts=1] rusage[mem=8000]' -n 8 -G compute-obigriffith -Is -a 'docker(ensemblorg/ensembl-vep:release_101.0)' /bin/bash\n",
    "perl /opt/vep/src/ensembl-vep/INSTALL.pl --help\n",
    "#perl /opt/vep/src/ensembl-vep/INSTALL.pl -c /storage1/fs1/obigriffith/Active/common/vepCache/ -a fc -s canis_lupus_familiaris -l --NO_BIOPERL --ASSEMBLY CanFam3.1\n",
    "exit"
   ]
  },
  {
   "cell_type": "markdown",
   "metadata": {},
   "source": [
    "### Uploading Preliminary Data for VEP\n",
    "\n",
    "Now on to the fun stuff, actually annotated our data with usefull information. For this we'll use a copy of the data from last week available in this repo and push it up to our home directory. We can use `scp` for this, as a reminder your ssh keys are likely different than mine."
   ]
  },
  {
   "cell_type": "code",
   "execution_count": 2,
   "metadata": {
    "jupyter": {
     "outputs_hidden": true
    }
   },
   "outputs": [
    {
     "name": "stderr",
     "output_type": "stream",
     "text": [
      "You are connecting to RIS Compute services.\n",
      "Membership in a compute-* AD group is required.\n",
      "\n",
      "Users are responsible for acting in accordance with\n",
      "policies applicable to Washington University St. Louis.\n",
      "\n",
      "https://confluence.ris.wustl.edu/display/RSUM/RIS+Compute+%3A+User+Agreement\n"
     ]
    }
   ],
   "source": [
    "%%bash\n",
    "cd ~/git/bfx-workshop/week_10\n",
    "scp mutect.filtered.decomposed.readcount_snvs_indel.vcf.gz beluga:~"
   ]
  },
  {
   "cell_type": "markdown",
   "metadata": {},
   "source": [
    "### Running VEP\n",
    "Next we'll actually run VEP on our VCF file, see below for a description of some of the parameters"
   ]
  },
  {
   "cell_type": "code",
   "execution_count": 3,
   "metadata": {
    "jupyter": {
     "outputs_hidden": true
    }
   },
   "outputs": [
    {
     "name": "stdout",
     "output_type": "stream",
     "text": [
      "Job <465319> is submitted to queue <general>.\n",
      "Job <465320> is submitted to queue <general>.\n"
     ]
    },
    {
     "name": "stderr",
     "output_type": "stream",
     "text": [
      "Pseudo-terminal will not be allocated because stdin is not a terminal.\r\n",
      "You are connecting to RIS Compute services.\n",
      "Membership in a compute-* AD group is required.\n",
      "\n",
      "Users are responsible for acting in accordance with\n",
      "policies applicable to Washington University St. Louis.\n",
      "\n",
      "https://confluence.ris.wustl.edu/display/RSUM/RIS+Compute+%3A+User+Agreement\n"
     ]
    }
   ],
   "source": [
    "%%bash\n",
    "ssh beluga\n",
    "\n",
    "LSF_DOCKER_VOLUMES=/storage1/fs1/bga/Active:/storage1/fs1/bga/Active LSF_DOCKER_PRESERVE_ENVIRONMENT=false bsub -oo vep.log -q general -M 8000000 -R 'select[mem>8000] span[hosts=1] rusage[mem=8000]' -n 8 -G compute-oncology -a 'docker(ensemblorg/ensembl-vep:release_101.0)' /opt/vep/src/ensembl-vep/vep --cache --dir_cache=/storage1/fs1/bga/Active/gmsroot/gc2560/core/cwl/inputs/VEP_cache/ --input_file=mutect.filtered.decomposed.readcount_snvs_indel.vcf.gz --output_file=mutect.filtered.decomposed.readcount_snvs_indel.flag_pick.vcf --everything --fasta=/storage1/fs1/bga/Active/gmsroot/gc2560/core/cwl/inputs/VEP_cache/homo_sapiens/101_GRCh38/Homo_sapiens.GRCh38.dna.toplevel.fa.gz --force_overwrite --vcf --terms SO --assembly=GRCh38 --offline --pick --force_overwrite --no_check_variants_order --fork 4 --transcript_version\n",
    "\n",
    "LSF_DOCKER_VOLUMES=/storage1/fs1/bga/Active:/storage1/fs1/bga/Active LSF_DOCKER_PRESERVE_ENVIRONMENT=false bsub -oo vep_nopick.log -q general -M 8000000 -R 'select[mem>8000] span[hosts=1] rusage[mem=8000]' -n 8 -G compute-oncology -a 'docker(ensemblorg/ensembl-vep:release_101.0)' /opt/vep/src/ensembl-vep/vep --cache --dir_cache=/storage1/fs1/bga/Active/gmsroot/gc2560/core/cwl/inputs/VEP_cache/ --input_file=mutect.filtered.decomposed.readcount_snvs_indel.vcf.gz --output_file=mutect.filtered.decomposed.readcount_snvs_indel.no_pick.vcf --everything --fasta=/storage1/fs1/bga/Active/gmsroot/gc2560/core/cwl/inputs/VEP_cache/homo_sapiens/101_GRCh38/Homo_sapiens.GRCh38.dna.toplevel.fa.gz --force_overwrite --vcf --terms SO --assembly=GRCh38 --offline --force_overwrite --no_check_variants_order --fork 4 --transcript_version"
   ]
  },
  {
   "cell_type": "markdown",
   "metadata": {},
   "source": [
    "While we're waiting for that job to complete let's talk about some of the options we specified that aren't so obvious, first as mentioned previously we need to supply the path to an appropriate VEP cache where annotations can be pulled.\n",
    "\n",
    "the --everything flag tells vep to annotate a fairly comprehensive set of items including transcript support level in ensembl, the hgvs notations, gene symbols etc.\n",
    "\n",
    "the --vcf flag tells VEP to output in VCF format\n",
    "\n",
    "--force_overwrite, will overwrite VEP results if they're present in the directory (this is especially usefull if you decide you want more annotations and don't want to remove files to re-run VEP)\n",
    "\n",
    "--terms SO tells VEP to use the sequence ontology to annotate variant consequences i.e. stop_gain, frameshift, etc.\n",
    "\n",
    "--no_check_variants_order means that VEP will be able to run on unsorted input files (though this comes at a significant computational cost)\n",
    "\n",
    "--fork is the multi-threading parameter, this will drastically speed up thee runtime\n",
    "\n",
    "and Finally --pick tells VEP to output only 1 entry for a variant, for example you could have a variant that is both a missense variant in one gene and upstream for another gene, using this option VEP will output the most sever consequence, in this case missense\n",
    "\n",
    "This just scratches the surface of options available for VEP, but is typically what I run as a \"default\" and is probably a good place to start. For a more complete list of params there is extensive documentation from ensembl available here: https://uswest.ensembl.org/info/docs/tools/vep/script/vep_options.html#basic\n",
    "\n",
    "I would like to note that many of VEPs defaults are designed around h.sapiens, for example it is quite simple to run on a different species however you will need that species in your cache and you will need to specify the desired species with the --species parameter\n"
   ]
  },
  {
   "cell_type": "markdown",
   "metadata": {},
   "source": [
    "### Downloading and viewing VEP results\n",
    "\n",
    "VEP outputs a number of files of potential interest, including an HTML report, the file you really probably care about though is the VCF file we had VEP output in the command above, lets go ahead and pull it down and take a look, here I use grep to print the surrounding lines around the pattern match. Importantly we see that for each variant our annotation info is specified under the \"INFO\" column and  the \"INFO\" meta line in the header tells us what each column represents in the | delimited VCF file. unfortunately this is quite hard to parse, so we will use R to extract some of this information and have a short plotting lesson in this tutorial."
   ]
  },
  {
   "cell_type": "code",
   "execution_count": 4,
   "metadata": {
    "jupyter": {
     "outputs_hidden": true
    },
    "scrolled": true
   },
   "outputs": [
    {
     "name": "stdout",
     "output_type": "stream",
     "text": [
      "##VEP=\"v101\" time=\"2020-11-22 04:18:21\" cache=\"/storage1/fs1/bga/Active/gmsroot/gc2560/core/cwl/inputs/VEP_cache/homo_sapiens/101_GRCh38\" ensembl-funcgen=101.b918a49 ensembl=101.856c8e8 ensembl-variation=101.50e7372 ensembl-io=101.943b6c2 1000genomes=\"phase3\" COSMIC=\"90\" ClinVar=\"202003\" ESP=\"V2-SSA137\" HGMD-PUBLIC=\"20194\" assembly=\"GRCh38.p13\" dbSNP=\"153\" gencode=\"GENCODE 35\" genebuild=\"2014-07\" gnomAD=\"r2.1\" polyphen=\"2.2.2\" regbuild=\"1.0\" sift=\"sift5.2.2\"\n",
      "##INFO=<ID=CSQ,Number=.,Type=String,Description=\"Consequence annotations from Ensembl VEP. Format: Allele|Consequence|IMPACT|SYMBOL|Gene|Feature_type|Feature|BIOTYPE|EXON|INTRON|HGVSc|HGVSp|cDNA_position|CDS_position|Protein_position|Amino_acids|Codons|Existing_variation|DISTANCE|STRAND|FLAGS|VARIANT_CLASS|SYMBOL_SOURCE|HGNC_ID|CANONICAL|MANE|TSL|APPRIS|CCDS|ENSP|SWISSPROT|TREMBL|UNIPARC|GENE_PHENO|SIFT|PolyPhen|DOMAINS|miRNA|HGVS_OFFSET|AF|AFR_AF|AMR_AF|EAS_AF|EUR_AF|SAS_AF|AA_AF|EA_AF|gnomAD_AF|gnomAD_AFR_AF|gnomAD_AMR_AF|gnomAD_ASJ_AF|gnomAD_EAS_AF|gnomAD_FIN_AF|gnomAD_NFE_AF|gnomAD_OTH_AF|gnomAD_SAS_AF|MAX_AF|MAX_AF_POPS|CLIN_SIG|SOMATIC|PHENO|PUBMED|VAR_SYNONYMS|MOTIF_NAME|MOTIF_POS|HIGH_INF_POS|MOTIF_SCORE_CHANGE|TRANSCRIPTION_FACTORS\">\n",
      "#CHROM\tPOS\tID\tREF\tALT\tQUAL\tFILTER\tINFO\tFORMAT\tExome_Normal\tExome_Tumor\n",
      "chr17\t445794\t.\tTA\tT\t.\tnormal_artifact;slippage;weak_evidence\tAS_FilterStatus=weak_evidence;AS_SB_TABLE=125%2C10|6%2C1;DP=155;ECNT=1;GERMQ=93;MBQ=30,30;MFRL=0,0;MMQ=60,60;MPOS=20;NALOD=-0.1435;NLOD=15.1;POPAF=6.0;RPA=13,12;RU=A;STR;STRQ=1;TLOD=4.22;CSQ=-|intron_variant|MODIFIER|RFLNB|ENSG00000183688|Transcript|ENST00000329099.4|protein_coding||1/1|ENST00000329099.4:c.104+41del|||||||rs374447131||-1|cds_start_NF|deletion|HGNC|HGNC:28705|YES||1|P1||ENSP00000331915|Q8N5W9||UPI00001AF949|||||||||||||0.1258|0.1229|0.3359|0.2129|0.2914|0.3926|0.2555|0.3054|0.3388|0.3419|0.386|0.3926|gnomAD_ASJ||||||||||\tGT:AD:AF:DP:F1R2:F2R1:SB\t0/0:66,2:0.041:68:4,0:61,2:62,4,2,0\t0/1:0,0:0:0:5,1:62,4:63,6,4,1\n",
      "chr17\t519444\t.\tG\tT\t.\tweak_evidence\tAS_FilterStatus=weak_evidence;AS_SB_TABLE=2%2C20|0%2C2;DP=25;ECNT=1;GERMQ=53;MBQ=30,30;MFRL=0,0;MMQ=60,60;MPOS=29;NALOD=1.16;NLOD=3.91;POPAF=6.0;TLOD=4.14;CSQ=T|intron_variant|MODIFIER|VPS53|ENSG00000141252|Transcript|ENST00000437048.7|protein_coding||21/21|ENST00000437048.7:c.2329-146C>A|||||||||-1||SNV|HGNC|HGNC:25608|YES|NM_001128159.3|1|P2|CCDS45558.1|ENSP00000401435|Q5VIR6||UPI0000DBEF01|1||||||||||||||||||||||||||||||||||\tGT:AD:AF:DP:F1R2:F2R1:SB\t0/0:13,0:0.065:13:11,0:2,0:2,11,0,0\t0/1:0,0:0.0:0:9,2:0,0:0,9,0,2\n",
      "chr17\t823429\t.\tG\tT\t.\tweak_evidence\tAS_FilterStatus=weak_evidence;AS_SB_TABLE=35%2C0|2%2C0;DP=37;ECNT=1;GERMQ=84;MBQ=30,30;MFRL=0,0;MMQ=60,60;MPOS=24;NALOD=1.15;NLOD=3.91;POPAF=6.0;TLOD=3.12;CSQ=T|intron_variant|MODIFIER|NXN|ENSG00000167693|Transcript|ENST00000336868.8|protein_coding||3/7|ENST00000336868.8:c.612+203C>A|||||||||-1||SNV|HGNC|HGNC:18008|YES|NM_022463.5|1|P1|CCDS10998.1|ENSP00000337443|Q6DKJ4||UPI00001B31EB|1||||||||||||||||||||||||||||||||||\tGT:AD:AF:DP:F1R2:F2R1:SB\t0/0:13,0:0.067:13:0,0:13,0:13,0,0,0\t0/1:0,0:0.0:0:0,0:22,2:22,0,2,0\n",
      "chr17\t826161\t.\tG\tT\t.\tPASS\tAS_FilterStatus=SITE;AS_SB_TABLE=26%2C60|0%2C3;DP=94;ECNT=1;GERMQ=93;MBQ=30,30;MFRL=0,0;MMQ=60,60;MPOS=25;NALOD=1.63;NLOD=12.03;POPAF=6.0;TLOD=4.47;CSQ=T|intron_variant|MODIFIER|NXN|ENSG00000167693|Transcript|ENST00000336868.8|protein_coding||1/7|ENST00000336868.8:c.361-83C>A|||||||rs1312686437||-1||SNV|HGNC|HGNC:18008|YES|NM_022463.5|1|P1|CCDS10998.1|ENSP00000337443|Q6DKJ4||UPI00001B31EB|1||||||||||||||||||||||||||||||||||\tGT:AD:AF:DP:F1R2:F2R1:SB\t0/0:40,0:0.023:40:30,0:10,0:10,30,0,0\t0/1:0,0:0.0:0:30,3:15,0:16,30,0,3\n"
     ]
    },
    {
     "name": "stderr",
     "output_type": "stream",
     "text": [
      "You are connecting to RIS Compute services.\n",
      "Membership in a compute-* AD group is required.\n",
      "\n",
      "Users are responsible for acting in accordance with\n",
      "policies applicable to Washington University St. Louis.\n",
      "\n",
      "https://confluence.ris.wustl.edu/display/RSUM/RIS+Compute+%3A+User+Agreement\n",
      "You are connecting to RIS Compute services.\n",
      "Membership in a compute-* AD group is required.\n",
      "\n",
      "Users are responsible for acting in accordance with\n",
      "policies applicable to Washington University St. Louis.\n",
      "\n",
      "https://confluence.ris.wustl.edu/display/RSUM/RIS+Compute+%3A+User+Agreement\n"
     ]
    }
   ],
   "source": [
    "%%bash\n",
    "cd ~/git/bfx-workshop/week_10\n",
    "\n",
    "scp beluga:~/mutect.filtered.decomposed.readcount_snvs_indel.flag_pick.vcf ./\n",
    "scp beluga:~/mutect.filtered.decomposed.readcount_snvs_indel.no_pick.vcf ./\n",
    "    \n",
    "grep -A 4 -B 2 \"#CHROM\" mutect.filtered.decomposed.readcount_snvs_indel.flag_pick.vcf"
   ]
  },
  {
   "cell_type": "markdown",
   "metadata": {},
   "source": [
    "Lets also take a quick look at the difference running VEP with `--pick` made."
   ]
  },
  {
   "cell_type": "code",
   "execution_count": 9,
   "metadata": {
    "scrolled": true
   },
   "outputs": [
    {
     "name": "stdout",
     "output_type": "stream",
     "text": [
      "     792\n",
      "     792\n",
      "pick\n",
      "chr17\t5583383\t.\tG\tT\t.\tweak_evidence\tAS_FilterStatus=weak_evidence;AS_SB_TABLE=19%2C0|2%2C0;DP=21;ECNT=1;GERMQ=44;MBQ=30,30;MFRL=0,0;MMQ=60,60;MPOS=4;NALOD=1.0;NLOD=2.71;POPAF=6.0;TLOD=4.02;CSQ=T|intron_variant|MODIFIER|NLRP1|ENSG00000091592|Transcript|ENST00000572272.6|protein_coding||1/16|ENST00000572272.6:c.271+304C>A|||||||||-1||SNV|HGNC|HGNC:14374|YES|NM_033004.4|1|P1|CCDS42246.1|ENSP00000460475|Q9C000||UPI0000038309|1||||||||||||||||||||||||||||||||||\tGT:AD:AF:DP:F1R2:F2R1:SB\t0/0:9,0:0.091:9:0,0:9,0:9,0,0,0\t0/1:0,0:0.0:0:0,0:10,2:10,0,2,0\n",
      "no pick\n",
      "chr17\t5583383\t.\tG\tT\t.\tweak_evidence\tAS_FilterStatus=weak_evidence;AS_SB_TABLE=19%2C0|2%2C0;DP=21;ECNT=1;GERMQ=44;MBQ=30,30;MFRL=0,0;MMQ=60,60;MPOS=4;NALOD=1.0;NLOD=2.71;POPAF=6.0;TLOD=4.02;CSQ=T|intron_variant|MODIFIER|NLRP1|ENSG00000091592|Transcript|ENST00000262467.10|protein_coding||1/15|ENST00000262467.10:c.271+304C>A|||||||||-1||SNV|HGNC|HGNC:14374|||5||CCDS32537.1|ENSP00000262467|Q9C000||UPI00005B2E06|1||||||||||||||||||||||||||||||||||,T|intron_variant|MODIFIER|NLRP1|ENSG00000091592|Transcript|ENST00000269280.8|protein_coding||2/16|ENST00000269280.8:c.271+304C>A|||||||||-1||SNV|HGNC|HGNC:14374|||1||CCDS42245.1|ENSP00000269280|Q9C000||UPI000002AEC7|1||||||||||||||||||||||||||||||||||,T|intron_variant|MODIFIER|NLRP1|ENSG00000091592|Transcript|ENST00000345221.7|protein_coding||2/16|ENST00000345221.7:c.271+304C>A|||||||||-1||SNV|HGNC|HGNC:14374|||5||CCDS42245.1|ENSP00000324366|Q9C000||UPI000002AEC7|1||||||||||||||||||||||||||||||||||,T|intron_variant|MODIFIER|NLRP1|ENSG00000091592|Transcript|ENST00000354411.7|protein_coding||1/15|ENST00000354411.7:c.271+304C>A|||||||||-1||SNV|HGNC|HGNC:14374|||1||CCDS42244.1|ENSP00000346390|Q9C000||UPI000002AEC9|1||||||||||||||||||||||||||||||||||,T|intron_variant&NMD_transcript_variant|MODIFIER|NLRP1|ENSG00000091592|Transcript|ENST00000544378.6|nonsense_mediated_decay||1/16|ENST00000544378.6:c.271+304C>A|||||||||-1||SNV|HGNC|HGNC:14374|||2||CCDS32537.1|ENSP00000442029|Q9C000||UPI00005B2E06|1||||||||||||||||||||||||||||||||||,T|intron_variant&non_coding_transcript_variant|MODIFIER|NLRP1|ENSG00000091592|Transcript|ENST00000571307.1|processed_transcript||2/13|ENST00000571307.1:n.637+304C>A|||||||||-1||SNV|HGNC|HGNC:14374|||1|||||||1||||||||||||||||||||||||||||||||||,T|intron_variant|MODIFIER|NLRP1|ENSG00000091592|Transcript|ENST00000571451.6|protein_coding||1/15|ENST00000571451.6:c.271+304C>A|||||||||-1||SNV|HGNC|HGNC:14374|||1||CCDS42245.1|ENSP00000459661|Q9C000||UPI000002AEC7|1||||||||||||||||||||||||||||||||||,T|downstream_gene_variant|MODIFIER|NLRP1|ENSG00000091592|Transcript|ENST00000572143.1|processed_transcript|||||||||||634|-1||SNV|HGNC|HGNC:14374|||4|||||||1||||||||||||||||||||||||||||||||||,T|intron_variant|MODIFIER|NLRP1|ENSG00000091592|Transcript|ENST00000572272.6|protein_coding||1/16|ENST00000572272.6:c.271+304C>A|||||||||-1||SNV|HGNC|HGNC:14374|YES|NM_033004.4|1|P1|CCDS42246.1|ENSP00000460475|Q9C000||UPI0000038309|1||||||||||||||||||||||||||||||||||,T|downstream_gene_variant|MODIFIER|NLRP1|ENSG00000091592|Transcript|ENST00000576905.5|protein_coding|||||||||||468|-1|cds_end_NF|SNV|HGNC|HGNC:14374|||4|||ENSP00000458303||I3L0S2|UPI00025A2D79|1||||||||||||||||||||||||||||||||||,T|intron_variant|MODIFIER|NLRP1|ENSG00000091592|Transcript|ENST00000577119.5|protein_coding||1/14|ENST00000577119.5:c.271+304C>A|||||||||-1||SNV|HGNC|HGNC:14374|||1||CCDS58508.1|ENSP00000460216|Q9C000||UPI000002AEC8|1||||||||||||||||||||||||||||||||||,T|intron_variant|MODIFIER|NLRP1|ENSG00000091592|Transcript|ENST00000613500.4|protein_coding||2/16|ENST00000613500.4:c.271+304C>A|||||||||-1||SNV|HGNC|HGNC:14374|||5||CCDS32537.1|ENSP00000483359|Q9C000||UPI00005B2E06|1||||||||||||||||||||||||||||||||||,T|intron_variant|MODIFIER|NLRP1|ENSG00000091592|Transcript|ENST00000617618.4|protein_coding||2/17|ENST00000617618.4:c.271+304C>A|||||||||-1||SNV|HGNC|HGNC:14374|||5|P1|CCDS42246.1|ENSP00000478516|Q9C000||UPI0000038309|1||||||||||||||||||||||||||||||||||,T|intron_variant|MODIFIER|NLRP1|ENSG00000091592|Transcript|ENST00000619223.4|protein_coding||2/16|ENST00000619223.4:c.271+304C>A|||||||||-1||SNV|HGNC|HGNC:14374|||5||CCDS42244.1|ENSP00000484692|Q9C000||UPI000002AEC9|1||||||||||||||||||||||||||||||||||,T|regulatory_region_variant|MODIFIER|||RegulatoryFeature|ENSR00000548013|promoter||||||||||||||SNV||||||||||||||||||||||||||||||||||||||||||||||\tGT:AD:AF:DP:F1R2:F2R1:SB\t0/0:9,0:0.091:9:0,0:9,0:9,0,0,0\t0/1:0,0:0.0:0:0,0:10,2:10,0,2,0\n"
     ]
    }
   ],
   "source": [
    "%%bash\n",
    "\n",
    "cat mutect.filtered.decomposed.readcount_snvs_indel.flag_pick.vcf | grep -v \"#\" | wc -l\n",
    "cat mutect.filtered.decomposed.readcount_snvs_indel.no_pick.vcf | grep -v \"#\" | wc -l\n",
    "\n",
    "echo \"pick\"\n",
    "grep \"chr17\\t5583383\" mutect.filtered.decomposed.readcount_snvs_indel.flag_pick.vcf\n",
    "echo \"no pick\"\n",
    "grep \"chr17\\t5583383\" mutect.filtered.decomposed.readcount_snvs_indel.no_pick.vcf"
   ]
  },
  {
   "cell_type": "markdown",
   "metadata": {},
   "source": [
    "As we can see, with without the `--pick` flag we get far more results/consequences for a specific variant. Though these results are added on a single line, a nuiance of outputting in VCF format. I generally always run with `--pick` but there could be situations in where you would want more thourough results."
   ]
  },
  {
   "cell_type": "markdown",
   "metadata": {},
   "source": [
    "### Data Cleanup Pre-amble\n",
    "Now that we have our annotated VCF data we can start working with it, but first let's clean it up some. As I meentioned above the VEP annotations are there, but are in a \"|\" delimited string within the Info column. Here we'll parse that info out into a more easily digestable format using R. But first we'll need to install and load a couple libraries we'll be using later on.\n",
    "\n",
    "I'll note here that I prefer to use the data.table package for data-munging and ggplot2 for plotting. This is mostly personal preference based on the available features within these packages that i've discussed in previous semesters however the R ecosystem is continually being improved and the differences between these libraries and other alternatives are becoming less pronounced. Rather than discuss the pros and cons of these libraries I'll just mention a couple \"common\" ones if you're looking for alternatives\n",
    "\n",
    "#### Data Munging\n",
    "- data.table\n",
    "- dplyr (part of the tidyverse)\n",
    "- base R (The Recent release of R 4.0 has made data.frames from base R much more effecient in terms of resources)\n",
    "\n",
    "#### Ploting\n",
    "- ggplot2 (probably the clear winner, but theres a learning curve)\n",
    "- lattice (to each his own, wins in a couple categories like faceting)\n",
    "- base R (little learning curver here, but not very impressive visually without alot of work)"
   ]
  },
  {
   "cell_type": "code",
   "execution_count": 2,
   "metadata": {
    "collapsed": true,
    "jupyter": {
     "outputs_hidden": true
    }
   },
   "outputs": [
    {
     "name": "stdout",
     "output_type": "stream",
     "text": [
      "--- Please select a CRAN mirror for use in this session ---\n"
     ]
    },
    {
     "name": "stderr",
     "output_type": "stream",
     "text": [
      "R[write to console]: trying URL 'https://cloud.r-project.org/bin/macosx/contrib/4.0/data.table_1.13.2.tgz'\n",
      "\n",
      "R[write to console]: Content type 'application/x-gzip'\n",
      "R[write to console]:  length 2317427 bytes (2.2 MB)\n",
      "\n",
      "R[write to console]: =\n",
      "R[write to console]: =\n",
      "R[write to console]: =\n",
      "R[write to console]: =\n",
      "R[write to console]: =\n",
      "R[write to console]: =\n",
      "R[write to console]: =\n",
      "R[write to console]: =\n",
      "R[write to console]: =\n",
      "R[write to console]: =\n",
      "R[write to console]: =\n",
      "R[write to console]: =\n",
      "R[write to console]: =\n",
      "R[write to console]: =\n",
      "R[write to console]: =\n",
      "R[write to console]: =\n",
      "R[write to console]: =\n",
      "R[write to console]: =\n",
      "R[write to console]: =\n",
      "R[write to console]: =\n",
      "R[write to console]: =\n",
      "R[write to console]: =\n",
      "R[write to console]: =\n",
      "R[write to console]: =\n",
      "R[write to console]: =\n",
      "R[write to console]: =\n",
      "R[write to console]: =\n",
      "R[write to console]: =\n",
      "R[write to console]: =\n",
      "R[write to console]: =\n",
      "R[write to console]: =\n",
      "R[write to console]: =\n",
      "R[write to console]: =\n",
      "R[write to console]: =\n",
      "R[write to console]: =\n",
      "R[write to console]: =\n",
      "R[write to console]: =\n",
      "R[write to console]: =\n",
      "R[write to console]: =\n",
      "R[write to console]: =\n",
      "R[write to console]: =\n",
      "R[write to console]: =\n",
      "R[write to console]: =\n",
      "R[write to console]: =\n",
      "R[write to console]: =\n",
      "R[write to console]: =\n",
      "R[write to console]: =\n",
      "R[write to console]: =\n",
      "R[write to console]: =\n",
      "R[write to console]: =\n",
      "R[write to console]: \n",
      "\n",
      "R[write to console]: downloaded 2.2 MB\n",
      "\n",
      "\n",
      "R[write to console]: trying URL 'https://cloud.r-project.org/bin/macosx/contrib/4.0/ggplot2_3.3.2.tgz'\n",
      "\n",
      "R[write to console]: Content type 'application/x-gzip'\n",
      "R[write to console]:  length 4064530 bytes (3.9 MB)\n",
      "\n",
      "R[write to console]: =\n",
      "R[write to console]: =\n",
      "R[write to console]: =\n",
      "R[write to console]: =\n",
      "R[write to console]: =\n",
      "R[write to console]: =\n",
      "R[write to console]: =\n",
      "R[write to console]: =\n",
      "R[write to console]: =\n",
      "R[write to console]: =\n",
      "R[write to console]: =\n",
      "R[write to console]: =\n",
      "R[write to console]: =\n",
      "R[write to console]: =\n",
      "R[write to console]: =\n",
      "R[write to console]: =\n",
      "R[write to console]: =\n",
      "R[write to console]: =\n",
      "R[write to console]: =\n",
      "R[write to console]: =\n",
      "R[write to console]: =\n",
      "R[write to console]: =\n",
      "R[write to console]: =\n",
      "R[write to console]: =\n",
      "R[write to console]: =\n",
      "R[write to console]: =\n",
      "R[write to console]: =\n",
      "R[write to console]: =\n",
      "R[write to console]: =\n",
      "R[write to console]: =\n",
      "R[write to console]: =\n",
      "R[write to console]: =\n",
      "R[write to console]: =\n",
      "R[write to console]: =\n",
      "R[write to console]: =\n",
      "R[write to console]: =\n",
      "R[write to console]: =\n",
      "R[write to console]: =\n",
      "R[write to console]: =\n",
      "R[write to console]: =\n",
      "R[write to console]: =\n",
      "R[write to console]: =\n",
      "R[write to console]: =\n",
      "R[write to console]: =\n",
      "R[write to console]: =\n",
      "R[write to console]: =\n",
      "R[write to console]: =\n",
      "R[write to console]: =\n",
      "R[write to console]: =\n",
      "R[write to console]: =\n",
      "R[write to console]: \n",
      "\n",
      "R[write to console]: downloaded 3.9 MB\n",
      "\n",
      "\n"
     ]
    },
    {
     "name": "stdout",
     "output_type": "stream",
     "text": [
      "\n",
      "The downloaded binary packages are in\n",
      "\t/var/folders/hj/7b95dcs57blc285wcxqttjpw0000gp/T//RtmpzX3RGG/downloaded_packages\n"
     ]
    },
    {
     "name": "stderr",
     "output_type": "stream",
     "text": [
      "R[write to console]: data.table 1.13.2 using 1 threads (see ?getDTthreads).  Latest news: r-datatable.com\n",
      "\n",
      "R[write to console]: **********\n",
      "This installation of data.table has not detected OpenMP support. It should still work but in single-threaded mode.\n",
      "This is a Mac. Please read https://mac.r-project.org/openmp/. Please engage with Apple and ask them for support. Check r-datatable.com for updates, and our Mac instructions here: https://github.com/Rdatatable/data.table/wiki/Installation. After several years of many reports of installation problems on Mac, it's time to gingerly point out that there have been no similar problems on Windows or Linux.\n",
      "**********\n",
      "\n"
     ]
    }
   ],
   "source": [
    "%%R\n",
    "#install.packages(c(\"data.table\", \"ggplot2\"))\n",
    "library(data.table)\n",
    "library(ggplot2)"
   ]
  },
  {
   "cell_type": "markdown",
   "metadata": {},
   "source": [
    "### Reading in data\n",
    "Here we read in the VCF file, theres nothing to special here, but notice the **skip** parameter. This is essentially telling R to not read in anything until it sees this character string, which inncidently is the header row of our VCF file. Basically we are telling R to skip reading in all the meta-info fields at the top of the VCF."
   ]
  },
  {
   "cell_type": "code",
   "execution_count": 8,
   "metadata": {},
   "outputs": [],
   "source": [
    "%%R\n",
    "vcfData <- fread(\"mutect.filtered.decomposed.readcount_snvs_indel.flag_pick.vcf\", skip=\"#CHROM\")"
   ]
  },
  {
   "cell_type": "markdown",
   "metadata": {},
   "source": [
    "#### Parsing out the VEP fields\n",
    "This bit requires a bit more explanation. Our VEP annotation data is within the INFO column, but thats not the only thing in there, theres additional information that the meta information in the VCF header specifies. Fortunately for us all of our VEP data starts with CSQ, so as a first step we take the INFO column and do a substitution using capture groups replacing the entire INFO string with just the VEP portion of it.\n",
    "\n",
    "Next we use the tstrsplit() function to split our new \"info_vep_only\" column we created in the previous step on the \"|\" field delimiter. The fixed parameter just means to search for a fixed string instead of a regular expression which serves two purposes. The first is that not using a regular expression engine is much faster, secondly \"|\" have special meanings in regex engines and so we don't have to worry about escaping the pipe if we just tell the function to treat the \"|\" as a character. This will return a transposed matrix of our VEP data.\n",
    "\n",
    "Last we can do a simple column-bind (cbind()) binding together our original VCF data with the split out matrix of VEP fields."
   ]
  },
  {
   "cell_type": "code",
   "execution_count": 9,
   "metadata": {
    "jupyter": {
     "outputs_hidden": true
    }
   },
   "outputs": [
    {
     "name": "stdout",
     "output_type": "stream",
     "text": [
      "     #CHROM      POS ID   REF ALT QUAL                                 FILTER\n",
      "  1:  chr17   445794  .    TA   T    . normal_artifact;slippage;weak_evidence\n",
      "  2:  chr17   519444  .     G   T    .                          weak_evidence\n",
      "  3:  chr17   823429  .     G   T    .                          weak_evidence\n",
      "  4:  chr17   826161  .     G   T    .                                   PASS\n",
      "  5:  chr17  1484040  .    CA   C    .                 slippage;weak_evidence\n",
      " ---                                                                         \n",
      "788:  chr17 82480287  . GCGCA   G    .                          weak_evidence\n",
      "789:  chr17 82482039  .     C   A    .                          weak_evidence\n",
      "790:  chr17 82604724  .     G   T    .                          weak_evidence\n",
      "791:  chr17 82797739  .    CT   C    .                               slippage\n",
      "792:  chr17 82801790  .     C   A    .                          weak_evidence\n",
      "                                                                                                                                                                                                                                                                                                                                                                                                                                                                                                                                                               INFO\n",
      "  1: AS_FilterStatus=weak_evidence;AS_SB_TABLE=125%2C10|6%2C1;DP=155;ECNT=1;GERMQ=93;MBQ=30,30;MFRL=0,0;MMQ=60,60;MPOS=20;NALOD=-0.1435;NLOD=15.1;POPAF=6.0;RPA=13,12;RU=A;STR;STRQ=1;TLOD=4.22;CSQ=-|intron_variant|MODIFIER|RFLNB|ENSG00000183688|Transcript|ENST00000329099.4|protein_coding||1/1|ENST00000329099.4:c.104+41del|||||||rs374447131||-1|cds_start_NF|deletion|HGNC|HGNC:28705|YES||1|P1||ENSP00000331915|Q8N5W9||UPI00001AF949|||||||||||||0.1258|0.1229|0.3359|0.2129|0.2914|0.3926|0.2555|0.3054|0.3388|0.3419|0.386|0.3926|gnomAD_ASJ||||||||||\n",
      "  2:                                                                                                                AS_FilterStatus=weak_evidence;AS_SB_TABLE=2%2C20|0%2C2;DP=25;ECNT=1;GERMQ=53;MBQ=30,30;MFRL=0,0;MMQ=60,60;MPOS=29;NALOD=1.16;NLOD=3.91;POPAF=6.0;TLOD=4.14;CSQ=T|intron_variant|MODIFIER|VPS53|ENSG00000141252|Transcript|ENST00000437048.7|protein_coding||21/21|ENST00000437048.7:c.2329-146C>A|||||||||-1||SNV|HGNC|HGNC:25608|YES|NM_001128159.3|1|P2|CCDS45558.1|ENSP00000401435|Q5VIR6||UPI0000DBEF01|1||||||||||||||||||||||||||||||||||\n",
      "  3:                                                                                                                        AS_FilterStatus=weak_evidence;AS_SB_TABLE=35%2C0|2%2C0;DP=37;ECNT=1;GERMQ=84;MBQ=30,30;MFRL=0,0;MMQ=60,60;MPOS=24;NALOD=1.15;NLOD=3.91;POPAF=6.0;TLOD=3.12;CSQ=T|intron_variant|MODIFIER|NXN|ENSG00000167693|Transcript|ENST00000336868.8|protein_coding||3/7|ENST00000336868.8:c.612+203C>A|||||||||-1||SNV|HGNC|HGNC:18008|YES|NM_022463.5|1|P1|CCDS10998.1|ENSP00000337443|Q6DKJ4||UPI00001B31EB|1||||||||||||||||||||||||||||||||||\n",
      "  4:                                                                                                                    AS_FilterStatus=SITE;AS_SB_TABLE=26%2C60|0%2C3;DP=94;ECNT=1;GERMQ=93;MBQ=30,30;MFRL=0,0;MMQ=60,60;MPOS=25;NALOD=1.63;NLOD=12.03;POPAF=6.0;TLOD=4.47;CSQ=T|intron_variant|MODIFIER|NXN|ENSG00000167693|Transcript|ENST00000336868.8|protein_coding||1/7|ENST00000336868.8:c.361-83C>A|||||||rs1312686437||-1||SNV|HGNC|HGNC:18008|YES|NM_022463.5|1|P1|CCDS10998.1|ENSP00000337443|Q6DKJ4||UPI00001B31EB|1||||||||||||||||||||||||||||||||||\n",
      "  5:                                                                          AS_FilterStatus=weak_evidence;AS_SB_TABLE=42%2C21|3%2C1;DP=77;ECNT=1;GERMQ=93;MBQ=30,30;MFRL=0,0;MMQ=60,60;MPOS=4;NALOD=1.23;NLOD=8.86;POPAF=6.0;RPA=15,14;RU=A;STR;STRQ=1;TLOD=3.95;CSQ=-|intron_variant|MODIFIER|MYO1C|ENSG00000197879|Transcript|ENST00000648651.1|protein_coding||2/31|ENST00000648651.1:c.231+107del|||||||rs375403851||-1||deletion|HGNC|HGNC:7597|YES|NM_001080779.2||A1|CCDS42226.1|ENSP00000496954|O00159||UPI0000200579|1||||||||||||||||||||||||||||||||||\n",
      " ---                                                                                                                                                                                                                                                                                                                                                                                                                                                                                                                                                               \n",
      "788:                                                                                              AS_FilterStatus=weak_evidence;AS_SB_TABLE=36%2C0|2%2C0;DP=47;ECNT=1;GERMQ=46;MBQ=30,30;MFRL=0,0;MMQ=60,60;MPOS=31;NALOD=1.11;NLOD=3.31;POPAF=6.0;TLOD=3.04;CSQ=-|intron_variant|MODIFIER|NARF|ENSG00000141562|Transcript|ENST00000309794.16|protein_coding||6/10|ENST00000309794.16:c.640-793_640-790del|||||||rs992471472||1||deletion|HGNC|HGNC:29916|YES|NM_012336.4|1|P2|CCDS32777.1|ENSP00000309899|Q9UHQ1||UPI0000073D0C|||||||||||||||||||||||||||||||||||\n",
      "789:                                                                                                                      AS_FilterStatus=weak_evidence;AS_SB_TABLE=0%2C33|0%2C2;DP=36;ECNT=1;GERMQ=78;MBQ=30,30;MFRL=0,0;MMQ=60,60;MPOS=48;NALOD=1.11;NLOD=3.61;POPAF=6.0;TLOD=3.16;CSQ=A|intron_variant|MODIFIER|NARF|ENSG00000141562|Transcript|ENST00000309794.16|protein_coding||7/10|ENST00000309794.16:c.769+828C>A|||||||||1||SNV|HGNC|HGNC:29916|YES|NM_012336.4|1|P2|CCDS32777.1|ENSP00000309899|Q9UHQ1||UPI0000073D0C|||||||||||||||||||||||||||||||||||\n",
      "790:                                                                                                                                              AS_FilterStatus=weak_evidence;AS_SB_TABLE=0%2C26|0%2C2;DP=28;ECNT=1;GERMQ=60;MBQ=30,30;MFRL=0,0;MMQ=60,60;MPOS=15;NALOD=1.0;NLOD=2.71;POPAF=6.0;TLOD=3.42;CSQ=T|downstream_gene_variant|MODIFIER|FOXK2|ENSG00000141568|Transcript|ENST00000335255.10|protein_coding|||||||||||122|1||SNV|HGNC|HGNC:6036|YES|NM_004514.4|1|P1|CCDS11813.1|ENSP00000335677|Q01167||UPI00001A8BEE|||||||||||||||||||||||||||||||||||\n",
      "791:    AS_FilterStatus=SITE;AS_SB_TABLE=71%2C18|8%2C1;DP=114;ECNT=1;GERMQ=93;MBQ=30,30;MFRL=0,0;MMQ=60,60;MPOS=31;NALOD=0.559;NLOD=8.1;POPAF=6.0;RPA=15,14;RU=T;STR;STRQ=1;TLOD=8.03;CSQ=-|intron_variant|MODIFIER|TBCD|ENSG00000141556|Transcript|ENST00000355528.9|protein_coding||7/38|ENST00000355528.9:c.772-3del|||||||rs36020328||1||deletion|HGNC|HGNC:11581|YES|NM_005993.5|1|P2|CCDS45818.1|ENSP00000347719|Q9BTW9||UPI000020053F|1||||||||||||0.3128|0.09704|0.1741|0.3495|0.1685|0.1645|0.1632|0.1432|0.1538|0.1555|0.1864|0.3495|gnomAD_AFR||||||||||\n",
      "792:                                                                                                                        AS_FilterStatus=weak_evidence;AS_SB_TABLE=7%2C11|0%2C2;DP=20;ECNT=1;GERMQ=41;MBQ=30,30;MFRL=0,0;MMQ=60,60;MPOS=10;NALOD=1.0;NLOD=2.71;POPAF=6.0;TLOD=4.14;CSQ=A|intron_variant|MODIFIER|TBCD|ENSG00000141556|Transcript|ENST00000355528.9|protein_coding||9/38|ENST00000355528.9:c.950+794C>A|||||||||1||SNV|HGNC|HGNC:11581|YES|NM_005993.5|1|P2|CCDS45818.1|ENSP00000347719|Q9BTW9||UPI000020053F|1||||||||||||||||||||||||||||||||||\n",
      "                       FORMAT                          Exome_Normal\n",
      "  1: GT:AD:AF:DP:F1R2:F2R1:SB   0/0:66,2:0.041:68:4,0:61,2:62,4,2,0\n",
      "  2: GT:AD:AF:DP:F1R2:F2R1:SB   0/0:13,0:0.065:13:11,0:2,0:2,11,0,0\n",
      "  3: GT:AD:AF:DP:F1R2:F2R1:SB   0/0:13,0:0.067:13:0,0:13,0:13,0,0,0\n",
      "  4: GT:AD:AF:DP:F1R2:F2R1:SB 0/0:40,0:0.023:40:30,0:10,0:10,30,0,0\n",
      "  5: GT:AD:AF:DP:F1R2:F2R1:SB    0/0:30,0:0.03:30:4,0:21,0:21,9,0,0\n",
      " ---                                                               \n",
      "788: GT:AD:AF:DP:F1R2:F2R1:SB   0/0:11,0:0.073:11:0,0:11,0:11,0,0,0\n",
      "789: GT:AD:AF:DP:F1R2:F2R1:SB   0/0:12,0:0.071:12:12,0:0,0:0,12,0,0\n",
      "790: GT:AD:AF:DP:F1R2:F2R1:SB       0/0:9,0:0.091:9:9,0:0,0:0,9,0,0\n",
      "791: GT:AD:AF:DP:F1R2:F2R1:SB   0/0:35,1:0.049:36:3,0:30,1:30,5,1,0\n",
      "792: GT:AD:AF:DP:F1R2:F2R1:SB       0/0:9,0:0.091:9:5,0:4,0:4,5,0,0\n",
      "                           Exome_Tumor\n",
      "  1:     0/1:0,0:0:0:5,1:62,4:63,6,4,1\n",
      "  2:     0/1:0,0:0.0:0:9,2:0,0:0,9,0,2\n",
      "  3:   0/1:0,0:0.0:0:0,0:22,2:22,0,2,0\n",
      "  4: 0/1:0,0:0.0:0:30,3:15,0:16,30,0,3\n",
      "  5:    0/1:0,0:0:0:6,1:21,3:21,12,3,1\n",
      " ---                                  \n",
      "788:     0/1:0,0:0:0:0,0:22,2:25,0,2,0\n",
      "789:   0/1:0,0:0.0:0:21,2:0,0:0,21,0,2\n",
      "790:   0/1:0,0:0.0:0:17,2:0,0:0,17,0,2\n",
      "791:    0/1:0,0:0:0:6,1:41,7:41,13,7,1\n",
      "792:     0/1:0,0:0.0:0:6,2:3,0:3,6,0,2\n",
      "                                                                                                                                                                                                                                                                                                                                                                     info_vep_only\n",
      "  1:           CSQ=-|intron_variant|MODIFIER|RFLNB|ENSG00000183688|Transcript|ENST00000329099.4|protein_coding||1/1|ENST00000329099.4:c.104+41del|||||||rs374447131||-1|cds_start_NF|deletion|HGNC|HGNC:28705|YES||1|P1||ENSP00000331915|Q8N5W9||UPI00001AF949|||||||||||||0.1258|0.1229|0.3359|0.2129|0.2914|0.3926|0.2555|0.3054|0.3388|0.3419|0.386|0.3926|gnomAD_ASJ||||||||||\n",
      "  2:                                                                                          CSQ=T|intron_variant|MODIFIER|VPS53|ENSG00000141252|Transcript|ENST00000437048.7|protein_coding||21/21|ENST00000437048.7:c.2329-146C>A|||||||||-1||SNV|HGNC|HGNC:25608|YES|NM_001128159.3|1|P2|CCDS45558.1|ENSP00000401435|Q5VIR6||UPI0000DBEF01|1||||||||||||||||||||||||||||||||||\n",
      "  3:                                                                                                  CSQ=T|intron_variant|MODIFIER|NXN|ENSG00000167693|Transcript|ENST00000336868.8|protein_coding||3/7|ENST00000336868.8:c.612+203C>A|||||||||-1||SNV|HGNC|HGNC:18008|YES|NM_022463.5|1|P1|CCDS10998.1|ENSP00000337443|Q6DKJ4||UPI00001B31EB|1||||||||||||||||||||||||||||||||||\n",
      "  4:                                                                                       CSQ=T|intron_variant|MODIFIER|NXN|ENSG00000167693|Transcript|ENST00000336868.8|protein_coding||1/7|ENST00000336868.8:c.361-83C>A|||||||rs1312686437||-1||SNV|HGNC|HGNC:18008|YES|NM_022463.5|1|P1|CCDS10998.1|ENSP00000337443|Q6DKJ4||UPI00001B31EB|1||||||||||||||||||||||||||||||||||\n",
      "  5:                                                                              CSQ=-|intron_variant|MODIFIER|MYO1C|ENSG00000197879|Transcript|ENST00000648651.1|protein_coding||2/31|ENST00000648651.1:c.231+107del|||||||rs375403851||-1||deletion|HGNC|HGNC:7597|YES|NM_001080779.2||A1|CCDS42226.1|ENSP00000496954|O00159||UPI0000200579|1||||||||||||||||||||||||||||||||||\n",
      " ---                                                                                                                                                                                                                                                                                                                                                                              \n",
      "788:                                                                        CSQ=-|intron_variant|MODIFIER|NARF|ENSG00000141562|Transcript|ENST00000309794.16|protein_coding||6/10|ENST00000309794.16:c.640-793_640-790del|||||||rs992471472||1||deletion|HGNC|HGNC:29916|YES|NM_012336.4|1|P2|CCDS32777.1|ENSP00000309899|Q9UHQ1||UPI0000073D0C|||||||||||||||||||||||||||||||||||\n",
      "789:                                                                                                CSQ=A|intron_variant|MODIFIER|NARF|ENSG00000141562|Transcript|ENST00000309794.16|protein_coding||7/10|ENST00000309794.16:c.769+828C>A|||||||||1||SNV|HGNC|HGNC:29916|YES|NM_012336.4|1|P2|CCDS32777.1|ENSP00000309899|Q9UHQ1||UPI0000073D0C|||||||||||||||||||||||||||||||||||\n",
      "790:                                                                                                                       CSQ=T|downstream_gene_variant|MODIFIER|FOXK2|ENSG00000141568|Transcript|ENST00000335255.10|protein_coding|||||||||||122|1||SNV|HGNC|HGNC:6036|YES|NM_004514.4|1|P1|CCDS11813.1|ENSP00000335677|Q01167||UPI00001A8BEE|||||||||||||||||||||||||||||||||||\n",
      "791: CSQ=-|intron_variant|MODIFIER|TBCD|ENSG00000141556|Transcript|ENST00000355528.9|protein_coding||7/38|ENST00000355528.9:c.772-3del|||||||rs36020328||1||deletion|HGNC|HGNC:11581|YES|NM_005993.5|1|P2|CCDS45818.1|ENSP00000347719|Q9BTW9||UPI000020053F|1||||||||||||0.3128|0.09704|0.1741|0.3495|0.1685|0.1645|0.1632|0.1432|0.1538|0.1555|0.1864|0.3495|gnomAD_AFR||||||||||\n",
      "792:                                                                                                 CSQ=A|intron_variant|MODIFIER|TBCD|ENSG00000141556|Transcript|ENST00000355528.9|protein_coding||9/38|ENST00000355528.9:c.950+794C>A|||||||||1||SNV|HGNC|HGNC:11581|YES|NM_005993.5|1|P2|CCDS45818.1|ENSP00000347719|Q9BTW9||UPI000020053F|1||||||||||||||||||||||||||||||||||\n",
      "        V1                      V2       V3    V4              V5         V6\n",
      "  1: CSQ=-          intron_variant MODIFIER RFLNB ENSG00000183688 Transcript\n",
      "  2: CSQ=T          intron_variant MODIFIER VPS53 ENSG00000141252 Transcript\n",
      "  3: CSQ=T          intron_variant MODIFIER   NXN ENSG00000167693 Transcript\n",
      "  4: CSQ=T          intron_variant MODIFIER   NXN ENSG00000167693 Transcript\n",
      "  5: CSQ=-          intron_variant MODIFIER MYO1C ENSG00000197879 Transcript\n",
      " ---                                                                        \n",
      "788: CSQ=-          intron_variant MODIFIER  NARF ENSG00000141562 Transcript\n",
      "789: CSQ=A          intron_variant MODIFIER  NARF ENSG00000141562 Transcript\n",
      "790: CSQ=T downstream_gene_variant MODIFIER FOXK2 ENSG00000141568 Transcript\n",
      "791: CSQ=-          intron_variant MODIFIER  TBCD ENSG00000141556 Transcript\n",
      "792: CSQ=A          intron_variant MODIFIER  TBCD ENSG00000141556 Transcript\n",
      "                     V7             V8 V9   V10\n",
      "  1:  ENST00000329099.4 protein_coding      1/1\n",
      "  2:  ENST00000437048.7 protein_coding    21/21\n",
      "  3:  ENST00000336868.8 protein_coding      3/7\n",
      "  4:  ENST00000336868.8 protein_coding      1/7\n",
      "  5:  ENST00000648651.1 protein_coding     2/31\n",
      " ---                                           \n",
      "788: ENST00000309794.16 protein_coding     6/10\n",
      "789: ENST00000309794.16 protein_coding     7/10\n",
      "790: ENST00000335255.10 protein_coding         \n",
      "791:  ENST00000355528.9 protein_coding     7/38\n",
      "792:  ENST00000355528.9 protein_coding     9/38\n",
      "                                         V11 V12 V13 V14 V15 V16 V17\n",
      "  1:           ENST00000329099.4:c.104+41del                        \n",
      "  2:         ENST00000437048.7:c.2329-146C>A                        \n",
      "  3:          ENST00000336868.8:c.612+203C>A                        \n",
      "  4:           ENST00000336868.8:c.361-83C>A                        \n",
      "  5:          ENST00000648651.1:c.231+107del                        \n",
      " ---                                                                \n",
      "788: ENST00000309794.16:c.640-793_640-790del                        \n",
      "789:         ENST00000309794.16:c.769+828C>A                        \n",
      "790:                                                                \n",
      "791:            ENST00000355528.9:c.772-3del                        \n",
      "792:          ENST00000355528.9:c.950+794C>A                        \n",
      "              V18 V19 V20          V21      V22  V23        V24 V25\n",
      "  1:  rs374447131      -1 cds_start_NF deletion HGNC HGNC:28705 YES\n",
      "  2:                   -1                   SNV HGNC HGNC:25608 YES\n",
      "  3:                   -1                   SNV HGNC HGNC:18008 YES\n",
      "  4: rs1312686437      -1                   SNV HGNC HGNC:18008 YES\n",
      "  5:  rs375403851      -1              deletion HGNC  HGNC:7597 YES\n",
      " ---                                                               \n",
      "788:  rs992471472       1              deletion HGNC HGNC:29916 YES\n",
      "789:                    1                   SNV HGNC HGNC:29916 YES\n",
      "790:              122   1                   SNV HGNC  HGNC:6036 YES\n",
      "791:   rs36020328       1              deletion HGNC HGNC:11581 YES\n",
      "792:                    1                   SNV HGNC HGNC:11581 YES\n",
      "                V26 V27 V28         V29             V30    V31 V32\n",
      "  1:                  1  P1             ENSP00000331915 Q8N5W9    \n",
      "  2: NM_001128159.3   1  P2 CCDS45558.1 ENSP00000401435 Q5VIR6    \n",
      "  3:    NM_022463.5   1  P1 CCDS10998.1 ENSP00000337443 Q6DKJ4    \n",
      "  4:    NM_022463.5   1  P1 CCDS10998.1 ENSP00000337443 Q6DKJ4    \n",
      "  5: NM_001080779.2      A1 CCDS42226.1 ENSP00000496954 O00159    \n",
      " ---                                                              \n",
      "788:    NM_012336.4   1  P2 CCDS32777.1 ENSP00000309899 Q9UHQ1    \n",
      "789:    NM_012336.4   1  P2 CCDS32777.1 ENSP00000309899 Q9UHQ1    \n",
      "790:    NM_004514.4   1  P1 CCDS11813.1 ENSP00000335677 Q01167    \n",
      "791:    NM_005993.5   1  P2 CCDS45818.1 ENSP00000347719 Q9BTW9    \n",
      "792:    NM_005993.5   1  P2 CCDS45818.1 ENSP00000347719 Q9BTW9    \n",
      "               V33 V34 V35 V36 V37 V38 V39 V40 V41 V42 V43 V44 V45    V46\n",
      "  1: UPI00001AF949                                                 0.1258\n",
      "  2: UPI0000DBEF01   1                                                   \n",
      "  3: UPI00001B31EB   1                                                   \n",
      "  4: UPI00001B31EB   1                                                   \n",
      "  5: UPI0000200579   1                                                   \n",
      " ---                                                                     \n",
      "788: UPI0000073D0C                                                       \n",
      "789: UPI0000073D0C                                                       \n",
      "790: UPI00001A8BEE                                                       \n",
      "791: UPI000020053F   1                                             0.3128\n",
      "792: UPI000020053F   1                                                   \n",
      "         V47    V48    V49    V50    V51    V52    V53    V54    V55    V56\n",
      "  1:  0.1229 0.3359 0.2129 0.2914 0.3926 0.2555 0.3054 0.3388 0.3419  0.386\n",
      "  2:                                                                       \n",
      "  3:                                                                       \n",
      "  4:                                                                       \n",
      "  5:                                                                       \n",
      " ---                                                                       \n",
      "788:                                                                       \n",
      "789:                                                                       \n",
      "790:                                                                       \n",
      "791: 0.09704 0.1741 0.3495 0.1685 0.1645 0.1632 0.1432 0.1538 0.1555 0.1864\n",
      "792:                                                                       \n",
      "        V57        V58 V59 V60 V61 V62 V63 V64 V65 V66 V67\n",
      "  1: 0.3926 gnomAD_ASJ                                    \n",
      "  2:                                                      \n",
      "  3:                                                      \n",
      "  4:                                                      \n",
      "  5:                                                      \n",
      " ---                                                      \n",
      "788:                                                      \n",
      "789:                                                      \n",
      "790:                                                      \n",
      "791: 0.3495 gnomAD_AFR                                    \n",
      "792:                                                      \n"
     ]
    }
   ],
   "source": [
    "%%R\n",
    "vepAnnotations <- vcfData[,\"info_vep_only\" := gsub(\".*(CSQ=.*)\", \"\\\\1\", INFO)]\n",
    "vepAnnotations <- vcfData[,tstrsplit(info_vep_only, split=\"|\", fixed=T)]\n",
    "vcfData <- cbind(vcfData, vepAnnotations)\n",
    "vcfData"
   ]
  }
 ],
 "metadata": {
  "kernelspec": {
   "display_name": "Python 3",
   "language": "python",
   "name": "python3"
  },
  "language_info": {
   "codemirror_mode": {
    "name": "ipython",
    "version": 3
   },
   "file_extension": ".py",
   "mimetype": "text/x-python",
   "name": "python",
   "nbconvert_exporter": "python",
   "pygments_lexer": "ipython3",
   "version": "3.7.7"
  }
 },
 "nbformat": 4,
 "nbformat_minor": 4
}
