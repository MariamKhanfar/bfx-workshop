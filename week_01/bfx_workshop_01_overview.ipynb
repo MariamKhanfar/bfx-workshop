{
 "cells": [
  {
   "cell_type": "markdown",
   "metadata": {},
   "source": [
    "# BFX Workshop Prerequisite Review\n",
    "\n",
    "Welcome back to the Fall 2020 and Spring 2021 Bioinformatics (BFX) Workshop. \n"
   ]
  },
  {
   "cell_type": "markdown",
   "metadata": {},
   "source": [
    "## Unix command line familiarity\n",
    "\n",
    "Whether on a macOS or Linux operating system, the Unix family of operating systems all have a similar look and feel. There are standard commands for navigating a filesystem and utilities for performing common tasks on files and directories. This workshop does not specifically cover Unix commands, but a few good resources:\n",
    "\n",
    "LinkedIn Learning is Free to all WUSTL faculty, students and staff. Although several years old and designed for Max OS X, not much has changed with Unix. [This](https://www.linkedin.com/learning/unix-for-mac-os-x-users) video tutorial should be easy to follow along on a macOS.\n",
    "\n",
    "For traditional users, the classic look and feel of [this](http://www.ee.surrey.ac.uk/Teaching/Unix/unixintro.html) tutorial will provide an introduction to UNIX commands, utilities, and navigation tools.\n",
    "\n",
    "Numerous other Linux/UNIX tutorials exist, feel free to post your favorite in the #bfx_workshop slack channel.\n"
   ]
  },
  {
   "cell_type": "markdown",
   "metadata": {},
   "source": [
    "## Software you'll need to have installed:\n",
    "\n",
    "NOTE: There are numerous ways to install Python, R, Notebooks, etc. In fact, you will see various ways of installing software and configuring your environment throughout the workshop. Each presenter and/or software toolkit may require or suggest a different approach. The following installs are a minimum list of steps to both load, execute, and edit the Jupyter Notebooks used for sharing material and instructions used throughout this workshop."
   ]
  },
  {
   "cell_type": "markdown",
   "metadata": {},
   "source": [
    "### Miniconda\n",
    "Conda is a package manager that works on Windows, Linux, and macOS. We will use a lightweight version of the package manager called Miniconda to install packages and manage the system environment. This tool should help minimize dependencies and differences in system-level libraries or operatings system across the participants in the BFX Workshop.\n",
    "\n",
    "Available installers for Miniconda can be found [here](https://docs.conda.io/en/latest/miniconda.html#miniconda) through the official Conda project documentation. \n",
    "\n",
    "For macOS, assumed to be the most common OS used in this course, the suggested installer is circled in red on the image of the avaiable installers:\n",
    "![macOS Miniconda Installers](https://raw.githubusercontent.com/genome/bfx_workshop/master/images/miniconda_macos_installers.png)\n",
    "\n",
    "Once you've complete the install process, open a fresh terminal and check that conda is now installed by listing the Help menu:\n",
    "\n",
    "```\n",
    "conda -h\n",
    "```\n",
    "\n",
    "An example image of what a terminal might look like when running the above command:\n",
    "![Example Conda Help](https://raw.githubusercontent.com/genome/bfx_workshop/master/images/conda_help.png)"
   ]
  },
  {
   "cell_type": "markdown",
   "metadata": {},
   "source": [
    "### Jupyter\n",
    "Now that conda is installed, installing Jupyter is straightforward. Other installation methods will work, but for the sake of simplicity, we will install using conda like so:\n",
    "\n",
    "```\n",
    "conda install jupyter\n",
    "```\n",
    "\n",
    "Check to see that a recent version of Python3 is now used in your base conda environment:\n",
    "```\n",
    "python -V\n",
    "```\n",
    "\n",
    "As of September 9th, 2020, the base conda python version is 3.8.3, see the example image below:\n",
    "![Example Python Version](https://raw.githubusercontent.com/genome/bfx_workshop/master/images/python_version.png)\n"
   ]
  },
  {
   "cell_type": "markdown",
   "metadata": {},
   "source": [
    "### Docker\n",
    "We will not be walking through all of the steps involved with installing Docker. For complete and updated instructions for installing Docker for Mac, please see this [link](https://docs.docker.com/docker-for-mac/install/).\n",
    "\n",
    "```\n",
    "docker --version\n",
    "```\n",
    "\n",
    "Now let's walk through the most basic Docker example:\n",
    "\n",
    "```\n",
    "docker run hello-world\n",
    "```\n",
    "\n",
    "What just happened?"
   ]
  },
  {
   "cell_type": "markdown",
   "metadata": {},
   "source": [
    "### Java\n",
    "Java is required to use the Integrated Genomics View (IGV) locally on your workstation or laptop. Please see the operating system install instructions for Java located [here](https://www.java.com/en/download/help/download_options.xml)."
   ]
  },
  {
   "cell_type": "markdown",
   "metadata": {},
   "source": [
    "### R\n",
    "\n",
    "We will use conda to install the essential R libraries to at minimum create an R Jupyter Notebook.\n",
    "\n",
    "```\n",
    "conda install r-essentials\n",
    "```"
   ]
  },
  {
   "cell_type": "markdown",
   "metadata": {},
   "source": [
    "### Git\n",
    "We will not be installing git as part of this tutorial. \n",
    "\n",
    "However with macOS, you can install git as part of the XCode Command Line Tools which are Apple distributed developer tools for compiling and developing software on macOS. Only the Command Line Tools are needed to use `git` commands.\n",
    "\n",
    "```\n",
    "git --version\n",
    "```\n",
    "\n",
    "#### Git Exercise\n",
    "Let's clone the class git repository from GitHub, see [link](https://github.com/genome/bfx_workshop).\n",
    "\n",
    "![Example GitHub Clone/Download Code](https://raw.githubusercontent.com/genome/bfx_workshop/master/images/github_clone_repo.png)\n",
    "\n",
    "NOTE: You have the option of using either HTTPS or SSH to clone the class git repo. Below is an example of using SSH.\n",
    "\n",
    "![Example Git Clone Commmand](https://raw.githubusercontent.com/genome/bfx_workshop/master/images/github_clone_cmd.png)\n"
   ]
  },
  {
   "cell_type": "markdown",
   "metadata": {},
   "source": [
    "### Jupyter Notebook\n",
    "Now that we have Miniconda, Jupyter, and Git installed and functional, we can begin using the Jupyter Notebook as an interactive shell and development environment.\n",
    "\n",
    "First we should navigate on the filesytem, using `cd`, to the directory where we cloned the course repository.\n",
    "\n",
    "A list, or `ls`, of the directory should show a `README.md` file and an `images` directory and perhaps several `*.ipynb` files.\n",
    "\n",
    "NOTE: What does the `*` character represent above?\n",
    "\n",
    "From the terminal command line in the git repo directory, start a Jupyter Notebook. The following command should launch a browser window showing the contents of the repo. From there, you can launch *THIS* tutorial in an interactive browser session.\n",
    "\n",
    "```\n",
    "juptyer notebook\n",
    "```\n",
    "\n",
    "NOTE: at this point, you can switch from the static GitHub"
   ]
  },
  {
   "cell_type": "markdown",
   "metadata": {},
   "source": [
    "#### iPython and Shell Commands\n",
    "\n",
    "Many common shell commands can be executed directly through a Notebook using iPython\n",
    "For more on iPython, see this [link](https://jakevdp.github.io/PythonDataScienceHandbook/01.05-ipython-and-shell-commands.html).\n"
   ]
  },
  {
   "cell_type": "code",
   "execution_count": 7,
   "metadata": {},
   "outputs": [
    {
     "name": "stdout",
     "output_type": "stream",
     "text": [
      "/Users/jwalker\n"
     ]
    }
   ],
   "source": [
    "cd ~"
   ]
  },
  {
   "cell_type": "code",
   "execution_count": 8,
   "metadata": {
    "scrolled": true
   },
   "outputs": [
    {
     "name": "stdout",
     "output_type": "stream",
     "text": [
      "\u001b[34m94334a6a-b3c4-4a2b-ae31-5c4bdaef2021\u001b[m\u001b[m/\r\n",
      "\u001b[34mApplications\u001b[m\u001b[m/\r\n",
      "\u001b[34mBox Sync\u001b[m\u001b[m/\r\n",
      "\u001b[34mCreative Cloud Files\u001b[m\u001b[m/\r\n",
      "\u001b[34mDesktop\u001b[m\u001b[m/\r\n",
      "\u001b[34mDocuments\u001b[m\u001b[m/\r\n",
      "\u001b[34mDownloads\u001b[m\u001b[m/\r\n",
      "\u001b[34mLibrary\u001b[m\u001b[m/\r\n",
      "MFN2_Part1.png\r\n",
      "MFN2_Part2.png\r\n",
      "MFN2_Part3.png\r\n",
      "\u001b[34mMovies\u001b[m\u001b[m/\r\n",
      "\u001b[34mMusic\u001b[m\u001b[m/\r\n",
      "NCBI_SARS-CoV-2.fa\r\n",
      "NCBI_SARS-CoV-2.fa.fai\r\n",
      "\u001b[34mOneDrive - Washington University in St. Louis\u001b[m\u001b[m/\r\n",
      "\u001b[34mPictures\u001b[m\u001b[m/\r\n",
      "\u001b[34mPublic\u001b[m\u001b[m/\r\n",
      "\u001b[34mbashrc.d\u001b[m\u001b[m/\r\n",
      "\u001b[34mbd0e9f28-8708-4288-9beb-79b59a91285b\u001b[m\u001b[m/\r\n",
      "\u001b[34mbfx-workshop\u001b[m\u001b[m/\r\n",
      "\u001b[34md293fe48-db49-41f0-8d19-1a5caa12721d\u001b[m\u001b[m/\r\n",
      "\u001b[34mf2e01a48-b2a0-4af0-8aba-8ecdc8c1293e\u001b[m\u001b[m/\r\n",
      "\u001b[34mgit\u001b[m\u001b[m/\r\n",
      "\u001b[34mgoogle-cloud-sdk\u001b[m\u001b[m/\r\n",
      "\u001b[34migv\u001b[m\u001b[m/\r\n",
      "\u001b[34mminiconda\u001b[m\u001b[m/\r\n",
      "miniconda.sh\r\n",
      "\u001b[34mopt\u001b[m\u001b[m/\r\n"
     ]
    }
   ],
   "source": [
    "ls"
   ]
  },
  {
   "cell_type": "code",
   "execution_count": 3,
   "metadata": {},
   "outputs": [],
   "source": [
    "mkdir -p ~/bfx-workshop"
   ]
  },
  {
   "cell_type": "code",
   "execution_count": 4,
   "metadata": {},
   "outputs": [
    {
     "name": "stdout",
     "output_type": "stream",
     "text": [
      "/Users/jwalker/bfx-workshop\n"
     ]
    }
   ],
   "source": [
    "cd ~/bfx-workshop"
   ]
  },
  {
   "cell_type": "code",
   "execution_count": 5,
   "metadata": {},
   "outputs": [
    {
     "ename": "SyntaxError",
     "evalue": "invalid syntax (<ipython-input-5-1c643a414f93>, line 1)",
     "output_type": "error",
     "traceback": [
      "\u001b[0;36m  File \u001b[0;32m\"<ipython-input-5-1c643a414f93>\"\u001b[0;36m, line \u001b[0;32m1\u001b[0m\n\u001b[0;31m    echo \"Hello World\"\u001b[0m\n\u001b[0m         ^\u001b[0m\n\u001b[0;31mSyntaxError\u001b[0m\u001b[0;31m:\u001b[0m invalid syntax\n"
     ]
    }
   ],
   "source": [
    "echo \"Hello World\""
   ]
  },
  {
   "cell_type": "code",
   "execution_count": 6,
   "metadata": {},
   "outputs": [
    {
     "name": "stdout",
     "output_type": "stream",
     "text": [
      "Hello World\r\n"
     ]
    }
   ],
   "source": [
    "!echo \"Hello World\""
   ]
  },
  {
   "cell_type": "markdown",
   "metadata": {},
   "source": [
    "## Compute and Storage Access\n",
    "\n",
    "The remainder of this tutorial includes resources to ensure all participants have access to a High Performance Compute (HPC) cluster.\n",
    "\n",
    "Prerequisites:\n",
    "\n",
    "- Compute1/Storage1 access:\n",
    " - https://docs.ris.wustl.edu/\n",
    "- Basic understanding of the command line and how to submit jobs to the cluster\n",
    " - https://confluence.ris.wustl.edu/display/ITKB/Workshops+and+Training\n"
   ]
  },
  {
   "cell_type": "markdown",
   "metadata": {},
   "source": [
    "### Vitual Private Network (VPN)\n",
    "This course will at times require access to the compute1/storage1 High Perfomance Computing & Storage solutions managed by the Research Infrastructure Services (RIS) team through WUSTL IT. In order to log into this compute environment, first one needs access to the WUSM VPN. For more information, please see the VPN section of this [link](https://it.wustl.edu/items/connect/)."
   ]
  },
  {
   "cell_type": "markdown",
   "metadata": {},
   "source": [
    "### Scientific Compute/Storage Platform\n",
    "\n",
    "This workshop will cover workflows and pipelines that use the compute1/storage1 environment. This compute and storage environment is not required for all workshops. However, there is a complete RIS seminar series from April 2020 available [here](https://www.youtube.com/playlist?list=PLc5dxOEco26RhSbhBaRLeZoUFOTn7GM-Y) if you need more instruction than listed below.\n",
    "\n",
    "#### Getting Started\n",
    "Please see the \"Getting Started\" section of this [link](https://ris.wustl.edu/services/compute/) if you do not have access to the compute1 platform.\n",
    "\n",
    "#### Getting Connected\n",
    "If you have access, but are unsure how to connect to compute1, please see this [link](https://confluence.ris.wustl.edu/display/ITKB/Compute+Quick+Start#ComputeQuickStart-1.GettingConnected). \n",
    "\n",
    "NOTE: The above link is only accessible from within WUSM's network.\n"
   ]
  },
  {
   "cell_type": "markdown",
   "metadata": {},
   "source": [
    "###  LSF and Docker information\n",
    "\n",
    "Working through this [LSF and Docker tutorial](https://gist.github.com/chrisamiller/4b17a8dd310374f078da2bf12b3e2a49) might prove useful in conjunction with this week's homework."
     ]
  },
  {
   "cell_type": "markdown",
   "metadata": {},
   "source": [
    "## Homework Assignments\n",
    "\n",
    "Please attempt the following exercises on your own and post questions to the mgibio #bfx_workshop Slack channel.\n",
    "\n",
    "1. Ensure you can login to compute1 and have access to a storage allocation.\n",
    "2. Use the RIS Knowledge Base and Tutorials to launch a Docker image on a compute1 node.\n",
    "3. Drop into the #bfx_workshop slack channel and introduce yourself!\n"
   ]
  }
 ],
 "metadata": {
  "kernelspec": {
   "display_name": "Python 3",
   "language": "python",
   "name": "python3"
  },
  "language_info": {
   "codemirror_mode": {
    "name": "ipython",
    "version": 3
   },
   "file_extension": ".py",
   "mimetype": "text/x-python",
   "name": "python",
   "nbconvert_exporter": "python",
   "pygments_lexer": "ipython3",
   "version": "3.8.3"
  }
 },
 "nbformat": 4,
 "nbformat_minor": 4
}
