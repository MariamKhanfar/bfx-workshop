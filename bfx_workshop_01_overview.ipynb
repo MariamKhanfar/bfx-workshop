{
 "cells": [
  {
   "cell_type": "markdown",
   "metadata": {},
   "source": [
    "# BFX Workshop\n",
    "\n",
    "Welcome back to the Fall 2020 and Spring 2021 Bioinformatics (BFX) Workshop. \n"
   ]
  },
  {
   "cell_type": "markdown",
   "metadata": {},
   "source": [
    "## Installs\n",
    "\n",
    "NOTE: There are numerous ways to install Python, R, Notebooks, etc. In fact, you will see various ways of installing software and configuring your environment throughout the workshop. Each presenter and/or software toolkit may require or suggest a different approach. The following installs are a minimum list of steps to both load, execute, and edit the Jupyter Notebooks used for sharing material and instructions used throughout this workshop."
   ]
  },
  {
   "cell_type": "markdown",
   "metadata": {},
   "source": [
    "### Miniconda\n",
    "Available installers for Miniconda can be found [here](https://docs.conda.io/en/latest/miniconda.html#miniconda)\n",
    "\n",
    "For macOS, the suggested installer is circled in red:\n",
    "![macOS Miniconda Installers](https://raw.githubusercontent.com/genome/bfx_workshop/master/images/miniconda_macos_installers.png \"macOS Miniconda Installers\")\n",
    "\n",
    "Open a fresh terminal and check that conda is now installed:\n",
    "\n",
    "```\n",
    "conda -h\n",
    "```"
   ]
  },
  {
   "cell_type": "markdown",
   "metadata": {},
   "source": [
    "### Jupyter\n",
    "Now that conda is installed, installing Jupyter is straightforward. Other installation methods will work, but for the sake of simplicity, we will install using conda like so:\n",
    "\n",
    "```\n",
    "conda install jupyter\n",
    "```\n",
    "\n",
    "Check to see that a recent version of Python3 is now used in your base conda environment:\n",
    "```\n",
    "python -V\n",
    "```\n",
    "As of September 9th, 2020, the base conda python version is 3.8.3.\n"
   ]
  },
  {
   "cell_type": "markdown",
   "metadata": {},
   "source": [
    "### Git\n",
    "We will not be installing git as part of this tutorial. However with macOS, you can install git as part of the XCode Command Line Tools which are Apple distributed developer tools for compiling and developing software on macOS. Only the Command Line Tools are needed to use `git` commands.\n",
    "\n",
    "```\n",
    "git --version\n",
    "```\n",
    "\n",
    "Clone the class git repository from GitHub, see [link](https://github.com/genome/bfx_workshop).\n"
   ]
  },
  {
   "cell_type": "markdown",
   "metadata": {},
   "source": [
    "### Docker\n",
    "Again, we will not be walking through all of the steps involved with installing Docker. For complete and updated instructions for installing Docker for Mac, please see this [link](https://docs.docker.com/docker-for-mac/install/)\n",
    "\n",
    "```\n",
    "docker --version\n",
    "```"
   ]
  },
  {
   "cell_type": "markdown",
   "metadata": {},
   "source": [
    "### Vitual Private Network (VPN)\n",
    "This course will at times require access to the compute1/storage1 High Perfomance Computing & Storage solutions managed by the Research Infrastructure Services (RIS) team through WUSTL IT. In order to login to this compute environment, first one needs access to the WUSM VPN. For more information, please see the VPN section of this [link](https://it.wustl.edu/items/connect/)."
   ]
  },
  {
   "cell_type": "markdown",
   "metadata": {},
   "source": [
    "### Scientific Compute/Storage Platform\n",
    "\n",
    "This workshop will cover workflows and pipelines that use the compute1/storage1 environment. This compute and storage environment is not required for all workshops. However, there is a complete RIS seminar series from April 2020 available [here](https://www.youtube.com/playlist?list=PLc5dxOEco26RhSbhBaRLeZoUFOTn7GM-Y) if you need more instruction than listed below.\n",
    "\n",
    "#### Getting Started\n",
    "Please see the \"Getting Started\" section of this [link](https://ris.wustl.edu/services/compute/) if you do not have access to the compute1 platform.\n",
    "\n",
    "#### Getting Connected\n",
    "If you have access, but are unsure how to connect to compute1, please see this [link](https://confluence.ris.wustl.edu/display/ITKB/Compute+Quick+Start#ComputeQuickStart-1.GettingConnected). \n",
    "\n",
    "NOTE: The above link is only accessible from within WUSM's network.\n"
   ]
  }
 ],
 "metadata": {
  "kernelspec": {
   "display_name": "Python 3",
   "language": "python",
   "name": "python3"
  },
  "language_info": {
   "codemirror_mode": {
    "name": "ipython",
    "version": 3
   },
   "file_extension": ".py",
   "mimetype": "text/x-python",
   "name": "python",
   "nbconvert_exporter": "python",
   "pygments_lexer": "ipython3",
   "version": "3.8.3"
  }
 },
 "nbformat": 4,
 "nbformat_minor": 4
}
