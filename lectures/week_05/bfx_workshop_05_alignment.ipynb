{
 "cells": [
  {
   "cell_type": "markdown",
   "id": "694bbe16",
   "metadata": {},
   "source": [
    "## Install Software\n",
    "You may choose to create or load a virtual environment of your choice. The following command will install cwltool in your current working environment."
   ]
  },
  {
   "cell_type": "code",
   "execution_count": null,
   "id": "cc06adaf",
   "metadata": {},
   "outputs": [],
   "source": [
    "!pip install cwltool"
   ]
  },
  {
   "cell_type": "markdown",
   "id": "504b622c",
   "metadata": {},
   "source": [
    "## Download Input Files"
   ]
  },
  {
   "cell_type": "code",
   "execution_count": null,
   "id": "474d9829",
   "metadata": {},
   "outputs": [],
   "source": [
    "!wget --no-clobber https://storage.googleapis.com/analysis-workflows-example-data/somatic_inputs/hla_and_brca_genes.fa \\\n",
    "https://storage.googleapis.com/analysis-workflows-example-data/somatic_inputs/hla_and_brca_genes.fa.amb \\\n",
    "https://storage.googleapis.com/analysis-workflows-example-data/somatic_inputs/hla_and_brca_genes.fa.ann \\\n",
    "https://storage.googleapis.com/analysis-workflows-example-data/somatic_inputs/hla_and_brca_genes.fa.bwt \\\n",
    "https://storage.googleapis.com/analysis-workflows-example-data/somatic_inputs/hla_and_brca_genes.fa.fai \\\n",
    "https://storage.googleapis.com/analysis-workflows-example-data/somatic_inputs/hla_and_brca_genes.fa.pac \\\n",
    "https://storage.googleapis.com/analysis-workflows-example-data/somatic_inputs/hla_and_brca_genes.fa.sa \\\n",
    "https://storage.googleapis.com/analysis-workflows-example-data/somatic_inputs/hla_and_brca_genes.dict \\\n",
    "https://storage.googleapis.com/analysis-workflows-example-data/somatic_inputs/hla_and_brca_genes_bait.interval_list \\\n",
    "https://storage.googleapis.com/analysis-workflows-example-data/somatic_inputs/hla_and_brca_genes_target.interval_list \\\n",
    "https://storage.googleapis.com/analysis-workflows-example-data/somatic_inputs/hla_and_brca_genes_known_indels.vcf.gz \\\n",
    "https://storage.googleapis.com/analysis-workflows-example-data/somatic_inputs/hla_and_brca_genes_known_indels.vcf.gz.tbi \\\n",
    "https://storage.googleapis.com/analysis-workflows-example-data/somatic_inputs/hla_and_brca_genes_mills.vcf.gz \\\n",
    "https://storage.googleapis.com/analysis-workflows-example-data/somatic_inputs/hla_and_brca_genes_mills.vcf.gz.tbi \\\n",
    "https://storage.googleapis.com/analysis-workflows-example-data/somatic_inputs/hla_and_brca_genes_dbsnp.vcf.gz \\\n",
    "https://storage.googleapis.com/analysis-workflows-example-data/somatic_inputs/hla_and_brca_genes_dbsnp.vcf.gz.tbi \\\n",
    "https://storage.googleapis.com/analysis-workflows-example-data/somatic_inputs/hla_and_brca_genes_omni.vcf.gz \\\n",
    "https://storage.googleapis.com/analysis-workflows-example-data/somatic_inputs/hla_and_brca_genes_omni.vcf.gz.tbi \\\n",
    "https://storage.googleapis.com/analysis-workflows-example-data/unaligned_subset_bams/normal/2895499331.bam \\\n",
    "https://storage.googleapis.com/analysis-workflows-example-data/unaligned_subset_bams/normal/2895499399.bam \\\n",
    "https://storage.googleapis.com/analysis-workflows-example-data/unaligned_subset_bams/tumor/2895499223.bam \\\n",
    "https://storage.googleapis.com/analysis-workflows-example-data/unaligned_subset_bams/tumor/2895499237.bam\n"
   ]
  },
  {
   "cell_type": "markdown",
   "id": "ada849a6",
   "metadata": {},
   "source": [
    "## CWL Workflow"
   ]
  },
  {
   "cell_type": "code",
   "execution_count": null,
   "id": "2babdc58",
   "metadata": {},
   "outputs": [],
   "source": [
    "!git clone https://github.com/genome/analysis-workflows.git"
   ]
  },
  {
   "cell_type": "markdown",
   "id": "edb11b66",
   "metadata": {},
   "source": [
    "## YAML Inputs\n",
    "\n",
    "YAML format files are used to declare all of the input files, variables, parameters, etc. for the CWL workflow we inted to run.\n",
    "\n",
    "For each sample, tumor and normal, create a YAML file using the text editor of your choice, ex. vim."
   ]
  },
  {
   "cell_type": "markdown",
   "id": "9161a8f6",
   "metadata": {},
   "source": [
    "<details>\n",
    "<summary>Click for normal_inputs.yaml</summary>\n",
    "\n",
    "```yaml\n",
    "---\n",
    "\n",
    "bait_intervals:\n",
    "  class: File\n",
    "  path: hla_and_brca_genes_bait.interval_list\n",
    "\n",
    "target_intervals:\n",
    "  class: File\n",
    "  path: hla_and_brca_genes_target.interval_list\n",
    "\n",
    "sequence:\n",
    "  - sequence:\n",
    "      bam:\n",
    "        class: File\n",
    "        path: 2895499331.bam\n",
    "    readgroup: \"@RG\\tID:2895499331\\tPU:H7HY2CCXX.3\\tSM:H_NJ-HCC1395-HCC1395_BL\\tLB:H_NJ-HCC1395-HCC1395_BL-lg21-lib1\\tPL:Illumina\\tCN:WUGSC\"\n",
    "  - sequence:\n",
    "      bam:\n",
    "        class: File\n",
    "        path: 2895499399.bam\n",
    "    readgroup: \"@RG\\tID:2895499399\\tPU:H7HY2CCXX.4\\tSM:H_NJ-HCC1395-HCC1395_BL\\tLB:H_NJ-HCC1395-HCC1395_BL-lg21-lib1\\tPL:Illumina\\tCN:WUGSC\"\n",
    "\n",
    "bqsr_known_sites:\n",
    "- class: File\n",
    "  path: hla_and_brca_genes_known_indels.vcf.gz\n",
    "- class: File\n",
    "  path: hla_and_brca_genes_mills.vcf.gz\n",
    "- class: File\n",
    "  path: hla_and_brca_genes_dbsnp.vcf.gz\n",
    "\n",
    "omni_vcf:\n",
    "  class: File\n",
    "  path: hla_and_brca_genes_omni.vcf.gz\n",
    "\n",
    "picard_metric_accumulation_level: LIBRARY\n",
    "\n",
    "reference:\n",
    "  class: File\n",
    "  path: hla_and_brca_genes.fa\n",
    "\n",
    "bqsr_intervals:\n",
    "- chr6\n",
    "- chr17\n",
    "\n",
    "per_base_intervals:\n",
    "- file:\n",
    "    class: File\n",
    "    path: hla_and_brca_genes_target.interval_list\n",
    "  label: clinvar\n",
    "\n",
    "per_target_intervals:\n",
    "- file:\n",
    "    class: File\n",
    "    path: hla_and_brca_genes_target.interval_list\n",
    "  label: acmg_genes\n",
    "\n",
    "summary_intervals: []\n",
    "```\n",
    " \n",
    "</details>   "
   ]
  },
  {
   "cell_type": "markdown",
   "id": "6c0a2b96",
   "metadata": {},
   "source": [
    "<details>\n",
    "<summary>Click for tumor_inputs.yaml</summary>\n",
    "\n",
    "```yaml\n",
    "---\n",
    "\n",
    "bait_intervals:\n",
    "  class: File\n",
    "  path: hla_and_brca_genes_bait.interval_list\n",
    "\n",
    "target_intervals:\n",
    "  class: File\n",
    "  path: hla_and_brca_genes_target.interval_list\n",
    "\n",
    "sequence:\n",
    "  - sequence:\n",
    "      bam:\n",
    "        class: File\n",
    "        path: 2895499223.bam\n",
    "    readgroup: \"@RG\\tID:2895499223\\tPU:H7HY2CCXX.3\\tSM:H_NJ-HCC1395-HCC1395\\tLB:H_NJ-HCC1395-HCC1395-lg24-lib1\\tPL:Illumina\\tCN:WUGSC\"\n",
    "  - sequence:\n",
    "      bam:\n",
    "        class: File\n",
    "        path: 2895499237.bam\n",
    "    readgroup: \"@RG\\tID:2895499237\\tPU:H7HY2CCXX.4\\tSM:H_NJ-HCC1395-HCC1395\\tLB:H_NJ-HCC1395-HCC1395-lg24-lib1\\tPL:Illumina\\tCN:WUGSC\"\n",
    "\n",
    "bqsr_known_sites:\n",
    "- class: File\n",
    "  path: hla_and_brca_genes_known_indels.vcf.gz\n",
    "- class: File\n",
    "  path: hla_and_brca_genes_mills.vcf.gz\n",
    "- class: File\n",
    "  path: hla_and_brca_genes_dbsnp.vcf.gz\n",
    "\n",
    "omni_vcf:\n",
    "  class: File\n",
    "  path: hla_and_brca_genes_omni.vcf.gz\n",
    "\n",
    "picard_metric_accumulation_level: LIBRARY\n",
    "\n",
    "reference:\n",
    "  class: File\n",
    "  path: hla_and_brca_genes.fa\n",
    "\n",
    "bqsr_intervals:\n",
    "- chr6\n",
    "- chr17\n",
    "\n",
    "per_base_intervals:\n",
    "- file:\n",
    "    class: File\n",
    "    path: hla_and_brca_genes_target.interval_list\n",
    "  label: clinvar\n",
    "\n",
    "per_target_intervals:\n",
    "- file:\n",
    "    class: File\n",
    "    path: hla_and_brca_genes_target.interval_list\n",
    "  label: acmg_genes\n",
    "\n",
    "summary_intervals: []\n",
    "```\n",
    " \n",
    "</details>   "
   ]
  },
  {
   "cell_type": "markdown",
   "id": "afed2660",
   "metadata": {},
   "source": [
    "# Execute Alignment Workflow\n",
    "\n",
    "## Normal Alignment"
   ]
  },
  {
   "cell_type": "code",
   "execution_count": null,
   "id": "cdbefeaa",
   "metadata": {},
   "outputs": [],
   "source": [
    "!cwltool --outdir normal analysis-workflows/definitions/pipelines/alignment_exome.cwl normal_inputs.yaml"
   ]
  },
  {
   "cell_type": "markdown",
   "id": "4f9b0b95",
   "metadata": {},
   "source": [
    "## Tumor Alignment"
   ]
  },
  {
   "cell_type": "code",
   "execution_count": null,
   "id": "a6ed7e4e",
   "metadata": {},
   "outputs": [],
   "source": [
    "!cwltool --outdir tumor analysis-workflows/definitions/pipelines/alignment_exome.cwl tumor_inputs.yaml"
   ]
  },
  {
   "cell_type": "markdown",
   "id": "c97787e9",
   "metadata": {},
   "source": [
    "Load the tumor/final.bam and normal/final.bam in IGV: ex. chr17:7,675,089"
   ]
  }
 ],
 "metadata": {
  "kernelspec": {
   "display_name": "Python 3",
   "language": "python",
   "name": "python3"
  },
  "language_info": {
   "codemirror_mode": {
    "name": "ipython",
    "version": 3
   },
   "file_extension": ".py",
   "mimetype": "text/x-python",
   "name": "python",
   "nbconvert_exporter": "python",
   "pygments_lexer": "ipython3",
   "version": "3.8.11"
  }
 },
 "nbformat": 4,
 "nbformat_minor": 5
}
